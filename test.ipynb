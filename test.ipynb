{
 "cells": [
  {
   "cell_type": "code",
   "execution_count": 18,
   "outputs": [],
   "source": [
    "import tensorflow as tf"
   ],
   "metadata": {
    "collapsed": false
   }
  },
  {
   "cell_type": "code",
   "execution_count": 19,
   "metadata": {
    "collapsed": true
   },
   "outputs": [
    {
     "name": "stdout",
     "output_type": "stream",
     "text": [
      "StratifiedShuffleSplit(n_splits=1, random_state=45423, test_size=0.5,\n",
      "            train_size=None)\n",
      "TRAIN: [3 0 5 7] TEST: [1 4 2 6]\n",
      "X_train \n",
      "[[3 4]\n",
      " [1 2]\n",
      " [3 4]\n",
      " [3 4]]\n",
      "X_test \n",
      "[[3 4]\n",
      " [1 2]\n",
      " [1 2]\n",
      " [3 4]]\n",
      "y_train \n",
      "[0 0 1 1]\n",
      "y_test \n",
      "[0 1 0 1]\n"
     ]
    }
   ],
   "source": [
    "import numpy as np\n",
    "from sklearn.model_selection import StratifiedShuffleSplit\n",
    "X = np.array([[1, 2], [3, 4], [1, 2], [3, 4], [1, 2], [3, 4], [3, 4], [3, 4]])\n",
    "y = np.array([0, 0, 0,0, 1, 1, 1,1])\n",
    "sss = StratifiedShuffleSplit(n_splits=1, test_size=0.5, random_state=45423,)\n",
    "sss.get_n_splits(X, y)\n",
    "print(sss)\n",
    "for train_index, test_index in sss.split(X, y):\n",
    "    print(\"TRAIN:\", train_index, \"TEST:\", test_index)\n",
    "    X_train, X_test = X[train_index], X[test_index]\n",
    "    y_train, y_test = y[train_index], y[test_index]\n",
    "print(\"X_train \\n\"+str(X_train))\n",
    "print( \"X_test \\n\" +str(X_test))\n",
    "print(\"y_train \\n\"+str(y_train))\n",
    "print( \"y_test \\n\" +str(y_test))"
   ]
  },
  {
   "cell_type": "code",
   "execution_count": 20,
   "outputs": [],
   "source": [
    "RA50_Data=\"/mnt/0A60B2CB60B2BD2F/Projects/flow_regime_recognition_CameraPosition/datasets_preprocessed/RightAngled50/2022-11-08 17:34:40.437549/tf_dataset_test.tf\"\n",
    "path_tf_dataset_test=RA50_Data\n",
    "tf_dataset_test = tf.data.experimental.load(path_tf_dataset_test)"
   ],
   "metadata": {
    "collapsed": false
   }
  },
  {
   "cell_type": "code",
   "execution_count": 21,
   "outputs": [
    {
     "data": {
      "text/plain": "<_LoadDataset element_spec=(TensorSpec(shape=(None, 56, 56, 1), dtype=tf.float32, name=None), TensorSpec(shape=(None, 4), dtype=tf.float32, name=None))>"
     },
     "execution_count": 21,
     "metadata": {},
     "output_type": "execute_result"
    }
   ],
   "source": [
    "sss.split(tf_dataset_test)"
   ],
   "metadata": {
    "collapsed": false
   }
  }
 ],
 "metadata": {
  "kernelspec": {
   "display_name": "Python 3",
   "language": "python",
   "name": "python3"
  },
  "language_info": {
   "codemirror_mode": {
    "name": "ipython",
    "version": 2
   },
   "file_extension": ".py",
   "mimetype": "text/x-python",
   "name": "python",
   "nbconvert_exporter": "python",
   "pygments_lexer": "ipython2",
   "version": "2.7.6"
  }
 },
 "nbformat": 4,
 "nbformat_minor": 0
}
