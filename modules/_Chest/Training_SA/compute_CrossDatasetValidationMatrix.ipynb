{
 "cells": [
  {
   "cell_type": "code",
   "execution_count": 9,
   "outputs": [],
   "source": [
    "from silence_tensorflow import silence_tensorflow\n",
    "silence_tensorflow()\n",
    "import tensorflow as tf\n",
    "import numpy as np\n",
    "import matplotlib.pyplot as plt"
   ],
   "metadata": {
    "collapsed": false
   }
  },
  {
   "cell_type": "code",
   "execution_count": 10,
   "metadata": {
    "collapsed": true
   },
   "outputs": [],
   "source": [
    "path_models=[]\n",
    "tf_dataset_tests=[]\n",
    "\n",
    "L200_Model=\"/mnt/0A60B2CB60B2BD2F/Projects/flow_regime_recognition_CameraPosition/datasets_preprocessed/Left200/2022-11-07 16:43:59.702466 Final 3/cnn_acc84.0_auc0.9.h5\"\n",
    "path_models.append((\"L200_Model\",L200_Model))\n",
    "\n",
    "L200_Data=\"/mnt/0A60B2CB60B2BD2F/Projects/flow_regime_recognition_CameraPosition/datasets_preprocessed/Left200/2022-11-07 16:43:59.702466 Final 3/tf_dataset_test.tf\"\n",
    "tf_dataset_tests.append((\"L200_Data\",L200_Data))\n",
    "\n",
    "F200_Model=\"/mnt/0A60B2CB60B2BD2F/Projects/flow_regime_recognition_CameraPosition/datasets_preprocessed/Front200/2022-11-07 12:01:14.955083 Final 1/cnn_acc96.0_loss0.1.h5\"\n",
    "path_models.append((\"F200_Model\",F200_Model))\n",
    "\n",
    "F200_Data=\"/mnt/0A60B2CB60B2BD2F/Projects/flow_regime_recognition_CameraPosition/datasets_preprocessed/Front200/2022-11-07 12:01:14.955083 Final 1/tf_dataset_test.tf\"\n",
    "tf_dataset_tests.append((\"F200_Data\",F200_Data))\n",
    "\n",
    "R200_Model=\"/mnt/0A60B2CB60B2BD2F/Projects/flow_regime_recognition_CameraPosition/datasets_preprocessed/Right200/2022-11-07 21:13:52.831721 Final 3/cnn_acc94.0_auc1.0.h5\"\n",
    "path_models.append((\"R200_Model\",R200_Model))\n",
    "\n",
    "R200_Data=\"/mnt/0A60B2CB60B2BD2F/Projects/flow_regime_recognition_CameraPosition/datasets_preprocessed/Right200/2022-11-07 21:13:52.831721 Final 3/tf_dataset_test.tf\"\n",
    "tf_dataset_tests.append((\"R200_Data\",R200_Data))\n",
    "\n",
    "RA50_Model=\"/mnt/0A60B2CB60B2BD2F/Projects/flow_regime_recognition_CameraPosition/datasets_preprocessed/RightAngled50/2022-11-08 17:34:40.437549/cnn_acc85.0_auc0.9.h5\"\n",
    "path_models.append((\"RA50_Model\",RA50_Model))\n",
    "RA50_Data=\"/mnt/0A60B2CB60B2BD2F/Projects/flow_regime_recognition_CameraPosition/datasets_preprocessed/RightAngled50/2022-11-08 17:34:40.437549/tf_dataset_test.tf\"\n",
    "tf_dataset_tests.append((\"RA50_Data\",RA50_Data))\n",
    "\n",
    "R80_Model=\"/mnt/0A60B2CB60B2BD2F/Projects/flow_regime_recognition_CameraPosition/datasets_preprocessed/Right80/2022-11-01 23:21:54.774594/cnn_acc85.0_loss0.3.h5\"\n",
    "path_models.append((\"R80_Model\",R80_Model))\n",
    "R80_Data=\"/mnt/0A60B2CB60B2BD2F/Projects/flow_regime_recognition_CameraPosition/datasets_preprocessed/Right80/2022-11-01 23:21:54.774594/tf_dataset_test.tf\"\n",
    "tf_dataset_tests.append((\"R80_Data\",R80_Data))\n",
    "\n",
    "\n",
    "\n",
    "\n",
    "\n",
    "\n",
    "\n"
   ]
  },
  {
   "cell_type": "code",
   "execution_count": 46,
   "outputs": [
    {
     "name": "stdout",
     "output_type": "stream",
     "text": [
      "MODEL: RA50_Model\n",
      "DATA: RA50_Data\n",
      "3/3 [==============================] - 0s 14ms/step - loss: 0.4755 - categorical_accuracy: 0.8548\n",
      "Test loss 0.47549355030059814, Test acc 0.8547717928886414\n",
      "3/3 [==============================] - 0s 13ms/step\n",
      "MODEL: RA50_Model\n",
      "DATA: R80_Data\n",
      "3/3 [==============================] - 0s 13ms/step - loss: 10.8098 - categorical_accuracy: 0.3998\n",
      "Test loss 10.809786796569824, Test acc 0.399807333946228\n",
      "3/3 [==============================] - 0s 12ms/step\n",
      "MODEL: RA50_Model\n",
      "DATA: R200_Data\n",
      "10/10 [==============================] - 0s 19ms/step - loss: 2.6025 - categorical_accuracy: 0.4674\n",
      "Test loss 2.6024880409240723, Test acc 0.46742209792137146\n",
      "10/10 [==============================] - 0s 14ms/step\n",
      "MODEL: RA50_Model\n",
      "DATA: L200_Data\n",
      "10/10 [==============================] - 0s 14ms/step - loss: 3.0195 - categorical_accuracy: 0.4813\n",
      "Test loss 3.0194802284240723, Test acc 0.48130080103874207\n",
      "10/10 [==============================] - 0s 11ms/step\n",
      "MODEL: RA50_Model\n",
      "DATA: F200_Data\n",
      "10/10 [==============================] - 0s 14ms/step - loss: 4.1716 - categorical_accuracy: 0.4971\n",
      "Test loss 4.171603679656982, Test acc 0.49706774950027466\n",
      "10/10 [==============================] - 0s 11ms/step\n",
      "MODEL: R80_Model\n",
      "DATA: RA50_Data\n",
      "3/3 [==============================] - 0s 12ms/step - loss: 2.1400 - categorical_accuracy: 0.5154\n",
      "Test loss 2.140023946762085, Test acc 0.515352725982666\n",
      "3/3 [==============================] - 0s 11ms/step\n",
      "MODEL: R80_Model\n",
      "DATA: R80_Data\n",
      "3/3 [==============================] - 1s 13ms/step - loss: 0.3313 - categorical_accuracy: 0.8536\n",
      "Test loss 0.331335186958313, Test acc 0.8535645604133606\n",
      "3/3 [==============================] - 0s 12ms/step\n",
      "MODEL: R80_Model\n",
      "DATA: R200_Data\n",
      "10/10 [==============================] - 0s 17ms/step - loss: 0.9506 - categorical_accuracy: 0.6267\n",
      "Test loss 0.9505636692047119, Test acc 0.6266693472862244\n",
      "10/10 [==============================] - 0s 14ms/step\n",
      "MODEL: R80_Model\n",
      "DATA: L200_Data\n",
      "10/10 [==============================] - 0s 16ms/step - loss: 1.8930 - categorical_accuracy: 0.5236\n",
      "Test loss 1.8929578065872192, Test acc 0.5235772132873535\n",
      "10/10 [==============================] - 0s 11ms/step\n",
      "MODEL: R80_Model\n",
      "DATA: F200_Data\n",
      "10/10 [==============================] - 0s 14ms/step - loss: 1.7896 - categorical_accuracy: 0.5357\n",
      "Test loss 1.7896227836608887, Test acc 0.5356926321983337\n",
      "10/10 [==============================] - 0s 12ms/step\n",
      "MODEL: R200_Model\n",
      "DATA: RA50_Data\n",
      "3/3 [==============================] - 0s 14ms/step - loss: 5.0133 - categorical_accuracy: 0.5394\n",
      "Test loss 5.013304710388184, Test acc 0.5394191145896912\n",
      "3/3 [==============================] - 0s 12ms/step\n",
      "MODEL: R200_Model\n",
      "DATA: R80_Data\n",
      "3/3 [==============================] - 0s 12ms/step - loss: 3.5540 - categorical_accuracy: 0.5270\n",
      "Test loss 3.5540428161621094, Test acc 0.5269749760627747\n",
      "3/3 [==============================] - 0s 12ms/step\n",
      "MODEL: R200_Model\n",
      "DATA: R200_Data\n",
      "10/10 [==============================] - 0s 17ms/step - loss: 0.1924 - categorical_accuracy: 0.9383\n",
      "Test loss 0.19242729246616364, Test acc 0.9382840991020203\n",
      "10/10 [==============================] - 0s 11ms/step\n",
      "MODEL: R200_Model\n",
      "DATA: L200_Data\n",
      "10/10 [==============================] - 0s 13ms/step - loss: 6.5829 - categorical_accuracy: 0.4813\n",
      "Test loss 6.5829339027404785, Test acc 0.48130080103874207\n",
      "10/10 [==============================] - 0s 11ms/step\n",
      "MODEL: R200_Model\n",
      "DATA: F200_Data\n",
      "10/10 [==============================] - 0s 14ms/step - loss: 1.5972 - categorical_accuracy: 0.6603\n",
      "Test loss 1.5971581935882568, Test acc 0.6602628827095032\n",
      "10/10 [==============================] - 0s 11ms/step\n",
      "MODEL: L200_Model\n",
      "DATA: RA50_Data\n",
      "3/3 [==============================] - 0s 13ms/step - loss: 1.0018 - categorical_accuracy: 0.6581\n",
      "Test loss 1.0017579793930054, Test acc 0.6580913066864014\n",
      "3/3 [==============================] - 0s 11ms/step\n",
      "MODEL: L200_Model\n",
      "DATA: R80_Data\n",
      "3/3 [==============================] - 0s 12ms/step - loss: 3.4648 - categorical_accuracy: 0.3671\n",
      "Test loss 3.464848518371582, Test acc 0.36705201864242554\n",
      "3/3 [==============================] - 0s 13ms/step\n",
      "MODEL: L200_Model\n",
      "DATA: R200_Data\n",
      "10/10 [==============================] - 0s 19ms/step - loss: 5.8378 - categorical_accuracy: 0.3784\n",
      "Test loss 5.837780952453613, Test acc 0.3783893287181854\n",
      "10/10 [==============================] - 0s 11ms/step\n",
      "MODEL: L200_Model\n",
      "DATA: L200_Data\n",
      "10/10 [==============================] - 0s 14ms/step - loss: 0.3968 - categorical_accuracy: 0.8362\n",
      "Test loss 0.39676427841186523, Test acc 0.8361788392066956\n",
      "10/10 [==============================] - 0s 11ms/step\n",
      "MODEL: L200_Model\n",
      "DATA: F200_Data\n",
      "10/10 [==============================] - 0s 14ms/step - loss: 0.8863 - categorical_accuracy: 0.6366\n",
      "Test loss 0.8862583041191101, Test acc 0.6366026401519775\n",
      "10/10 [==============================] - 0s 12ms/step\n",
      "MODEL: F200_Model\n",
      "DATA: RA50_Data\n",
      "3/3 [==============================] - 0s 11ms/step - loss: 11.4942 - categorical_accuracy: 0.3444\n",
      "Test loss 11.494240760803223, Test acc 0.3443983495235443\n",
      "3/3 [==============================] - 0s 11ms/step\n",
      "MODEL: F200_Model\n",
      "DATA: R80_Data\n",
      "3/3 [==============================] - 0s 11ms/step - loss: 12.7058 - categorical_accuracy: 0.3112\n",
      "Test loss 12.705825805664062, Test acc 0.3111753463745117\n",
      "3/3 [==============================] - 0s 13ms/step\n",
      "MODEL: F200_Model\n",
      "DATA: R200_Data\n",
      "10/10 [==============================] - 1s 18ms/step - loss: 12.9417 - categorical_accuracy: 0.2890\n",
      "Test loss 12.941725730895996, Test acc 0.2889518439769745\n",
      "10/10 [==============================] - 0s 12ms/step\n",
      "MODEL: F200_Model\n",
      "DATA: L200_Data\n",
      "10/10 [==============================] - 0s 15ms/step - loss: 9.7479 - categorical_accuracy: 0.3486\n",
      "Test loss 9.747944831848145, Test acc 0.34857723116874695\n",
      "10/10 [==============================] - 0s 10ms/step\n",
      "MODEL: F200_Model\n",
      "DATA: F200_Data\n",
      "10/10 [==============================] - 0s 16ms/step - loss: 0.1035 - categorical_accuracy: 0.9628\n",
      "Test loss 0.10349302738904953, Test acc 0.9627906680107117\n",
      "10/10 [==============================] - 0s 12ms/step\n"
     ]
    }
   ],
   "source": [
    "\n",
    "a = np.zeros(9)\n",
    "values=[]\n",
    "for model_name , path_model in path_models:\n",
    "  for data_name, tf_dataset_test in tf_dataset_tests:\n",
    "    print(\"MODEL: \"+model_name)\n",
    "    print(\"DATA: \"+data_name)\n",
    "    # Load model\n",
    "    model = tf.keras.models.load_model(path_model)\n",
    "    # Read data\n",
    "    ds_test = tf.data.experimental.load(tf_dataset_test)\n",
    "    #load example picture\n",
    "    # Evaluate model\n",
    "    model.compile(loss='categorical_crossentropy', metrics='categorical_accuracy')\n",
    "    results = model.evaluate(ds_test, verbose=True)\n",
    "    print(f\"Test loss {results[0]}, Test acc {results[1]}\")\n",
    "    # Model predict\n",
    "    y_test = [label for image, label in list(ds_test.unbatch().as_numpy_iterator())]\n",
    "    y_test_idx = tf.argmax(y_test, axis=1)\n",
    "    predictions = model.predict(ds_test)\n",
    "    predictions_idx = tf.argmax(predictions, axis=1)\n",
    "    values.append(round(results[1], 2))"
   ],
   "metadata": {
    "collapsed": false
   }
  },
  {
   "cell_type": "code",
   "execution_count": 54,
   "outputs": [
    {
     "data": {
      "text/plain": "matrix([[0.85, 0.4 , 0.47, 0.48, 0.5 ],\n        [0.52, 0.85, 0.63, 0.52, 0.54],\n        [0.54, 0.53, 0.94, 0.48, 0.66],\n        [0.66, 0.37, 0.38, 0.84, 0.64],\n        [0.34, 0.31, 0.29, 0.35, 0.96]])"
     },
     "execution_count": 54,
     "metadata": {},
     "output_type": "execute_result"
    }
   ],
   "source": [
    "W = np.mat(values)\n",
    "k=W.reshape(5,5)\n",
    "k"
   ],
   "metadata": {
    "collapsed": false
   }
  },
  {
   "cell_type": "code",
   "execution_count": 57,
   "outputs": [
    {
     "data": {
      "text/plain": "<AxesSubplot: >"
     },
     "execution_count": 57,
     "metadata": {},
     "output_type": "execute_result"
    },
    {
     "data": {
      "text/plain": "<Figure size 640x480 with 2 Axes>",
      "image/png": "[encoded data removed]"
     },
     "metadata": {},
     "output_type": "display_data"
    }
   ],
   "source": [
    "import seaborn\n",
    "seaborn.heatmap(k,cmap=\"cool\")"
   ],
   "metadata": {
    "collapsed": false
   }
  }
 ],
 "metadata": {
  "kernelspec": {
   "display_name": "Python 3",
   "language": "python",
   "name": "python3"
  },
  "language_info": {
   "codemirror_mode": {
    "name": "ipython",
    "version": 2
   },
   "file_extension": ".py",
   "mimetype": "text/x-python",
   "name": "python",
   "nbconvert_exporter": "python",
   "pygments_lexer": "ipython2",
   "version": "2.7.6"
  }
 },
 "nbformat": 4,
 "nbformat_minor": 0
}
