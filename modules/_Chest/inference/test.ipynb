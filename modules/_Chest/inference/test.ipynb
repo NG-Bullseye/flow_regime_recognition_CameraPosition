{
 "cells": [
  {
   "cell_type": "markdown",
   "source": [
    "Imports for Inferencing"
   ],
   "metadata": {
    "collapsed": false,
    "pycharm": {
     "name": "#%% md\n"
    }
   }
  },
  {
   "cell_type": "code",
   "execution_count": 1,
   "outputs": [
    {
     "name": "stderr",
     "output_type": "stream",
     "text": [
      "2022-06-28 18:07:45.391784: I tensorflow/core/util/util.cc:169] oneDNN custom operations are on. You may see slightly different numerical results due to floating-point round-off errors from different computation orders. To turn them off, set the environment variable `TF_ENABLE_ONEDNN_OPTS=0`.\n"
     ]
    }
   ],
   "source": [
    "import tensorflow as tf\n",
    "from keras.applications.xception import Xception as net\n",
    "from keras_preprocessing.image.utils import img_to_array,load_img, array_to_img\n",
    "from keras.applications.resnet_v2 import preprocess_input, decode_predictions\n",
    "import numpy as np\n",
    "import cv2\n",
    "from tensorflow.python.keras import backend as K\n",
    "import pandas as pd"
   ],
   "metadata": {
    "collapsed": false,
    "pycharm": {
     "name": "#%%\n"
    }
   }
  },
  {
   "cell_type": "markdown",
   "source": [
    "Imports for dataset aquisition from preprocessed data"
   ],
   "metadata": {
    "collapsed": false,
    "pycharm": {
     "name": "#%% md\n"
    }
   }
  },
  {
   "cell_type": "code",
   "execution_count": 2,
   "outputs": [],
   "source": [
    "import os\n",
    "import sys\n",
    "import yaml\n",
    "\n",
    "p = os.path.abspath('.')\n",
    "sys.path.insert(1, p)"
   ],
   "metadata": {
    "collapsed": false,
    "pycharm": {
     "name": "#%%\n"
    }
   }
  },
  {
   "cell_type": "code",
   "execution_count": null,
   "outputs": [],
   "source": [
    "from data_import_and_preprocessing.dataset_formation import DataParser, ImageDataExtractor, LabelExtractor, \\\n",
    "    DataSetCreator\n",
    "\n",
    "print(os.getcwd())\n",
    "os.chdir('/mnt/0A60B2CB60B2BD2F/Projects/leo_flow_regime_recognition')\n",
    "print(os.getcwd())\n",
    "with open('params.yaml', 'r') as stream:\n",
    "    params = yaml.safe_load(stream)\n",
    "no_epochs = params['training']['no_epochs']\n",
    "batch_size = params['training']['batch_size']\n",
    "picture_width = params['preprocessing']['picture_width']\n",
    "picture_hight = params['preprocessing']['picture_hight']\n",
    "no_classes = params['preprocessing']['no_classes']\n",
    "\n",
    "data_dir = 'data/preprocessed'\n",
    "data_parser = DataParser(data_dir)\n",
    "image_data_extractor = ImageDataExtractor((picture_width, picture_hight, 1))\n",
    "label_extractor = LabelExtractor(no_classes=no_classes) #anzahl der classen\n",
    "dataset = DataSetCreator(data_parser, image_data_extractor, label_extractor, no_repeats=no_epochs)\n",
    "pathList = []\n",
    "for imagePath in dataset.data_points:\n",
    "    pathList.append(imagePath.path_to_data)\n"
   ],
   "metadata": {
    "collapsed": false,
    "pycharm": {
     "name": "#%%\n"
    }
   }
  },
  {
   "cell_type": "code",
   "execution_count": null,
   "outputs": [],
   "source": [
    "pathlist. get a picture\n",
    "path = '/mnt/0A60B2CB60B2BD2F/Projects/leo_flow_regime_recognition/data/preprocessed/1100000001.png'\n",
    "finde den namen \"1100000001\" mit dem neuen frame mit allen datapoints. ersetze path damit\n",
    "img = cv2.imread(path)"
   ],
   "metadata": {
    "collapsed": false,
    "pycharm": {
     "name": "#%%\n"
    }
   }
  },
  {
   "cell_type": "code",
   "execution_count": null,
   "outputs": [],
   "source": [
    "img_preprocessed = cv2.cvtColor(img, cv2.COLOR_BGR2GRAY)\n",
    "img_preprocessed = cv2.resize(img_preprocessed, (32, 32), interpolation=cv2.INTER_CUBIC)\n",
    "img_preprocessed  = img_preprocessed / 255\n",
    "\n",
    "x = np.expand_dims(img_preprocessed, axis=0)"
   ],
   "metadata": {
    "collapsed": false,
    "pycharm": {
     "name": "#%%\n"
    }
   }
  },
  {
   "cell_type": "code",
   "execution_count": null,
   "outputs": [],
   "source": [
    "model_path = \"/mnt/0A60B2CB60B2BD2F/Projects/leo_flow_regime_recognition/training/model/trained_model.h5\"\n",
    "reconstructed_model = tf.keras.models.load_model(model_path)"
   ],
   "metadata": {
    "collapsed": false,
    "pycharm": {
     "name": "#%%\n"
    }
   }
  },
  {
   "cell_type": "code",
   "execution_count": null,
   "outputs": [],
   "source": [
    "preds = reconstructed_model.predict(x)"
   ],
   "metadata": {
    "collapsed": false,
    "pycharm": {
     "name": "#%%\n"
    }
   }
  },
  {
   "cell_type": "code",
   "execution_count": null,
   "outputs": [],
   "source": [
    "# decode the results into a list of tuples (class, description, probability)\n",
    "preds"
   ],
   "metadata": {
    "collapsed": false,
    "pycharm": {
     "name": "#%%\n"
    }
   }
  },
  {
   "cell_type": "code",
   "execution_count": null,
   "outputs": [],
   "source": [
    "pred=np.around(preds,3)"
   ],
   "metadata": {
    "collapsed": false,
    "pycharm": {
     "name": "#%%\n"
    }
   }
  },
  {
   "cell_type": "code",
   "execution_count": null,
   "outputs": [],
   "source": [
    "i=0\n",
    "inferedClass=\"\"\n",
    "classaccuracy=0\n",
    "\n",
    "inferedAccuracyFlooded=0\n",
    "inferedAccuracyLoaded=0\n",
    "inferedAccuracyDispersed=0\n",
    "\n",
    "for v in pred[0]:\n",
    "    if i==0:\n",
    "        inferedAccuracyFlooded = v\n",
    "    if i==1:\n",
    "        inferedAccuracyLoaded = v\n",
    "    if i==2:\n",
    "        inferedAccuracyDispersed = v\n",
    "    i=i+1\n",
    "classaccuracy = max(inferedAccuracyFlooded,inferedAccuracyDispersed,inferedAccuracyLoaded)\n",
    "if classaccuracy == inferedAccuracyFlooded:\n",
    "    inferedClass= \"Flooded\"\n",
    "if classaccuracy == inferedAccuracyLoaded:\n",
    "    inferedClass= \"Loaded\"\n",
    "if classaccuracy == inferedAccuracyDispersed:\n",
    "    inferedClass= \"Despersed\"\n",
    "print(inferedClass+\": \"+str(classaccuracy))"
   ],
   "metadata": {
    "collapsed": false,
    "pycharm": {
     "name": "#%%\n"
    }
   }
  },
  {
   "cell_type": "code",
   "execution_count": null,
   "outputs": [],
   "source": [
    "print(reconstructed_model.layers[11])"
   ],
   "metadata": {
    "collapsed": false,
    "pycharm": {
     "name": "#%%\n"
    }
   }
  },
  {
   "cell_type": "code",
   "execution_count": null,
   "outputs": [],
   "source": [
    "\n",
    "# lstm_67 is the second layer.\n",
    "dense2D = K.function([reconstructed_model.layers[0].input], [reconstructed_model.layers[11].output])\n",
    "dense2D = dense2D(x)[0]\n",
    "dense2D"
   ],
   "metadata": {
    "collapsed": false,
    "pycharm": {
     "name": "#%%\n"
    }
   }
  },
  {
   "cell_type": "markdown",
   "source": [
    "import dataset"
   ],
   "metadata": {
    "collapsed": false,
    "pycharm": {
     "name": "#%% md\n"
    }
   }
  },
  {
   "cell_type": "code",
   "execution_count": null,
   "outputs": [],
   "source": [
    "from report import grad_cam\n",
    "for idx in range(len(reconstructed_model.layers)):\n",
    "  print(reconstructed_model.get_layer(index = idx).name)"
   ],
   "metadata": {
    "collapsed": false,
    "pycharm": {
     "name": "#%%\n"
    }
   }
  },
  {
   "cell_type": "code",
   "execution_count": null,
   "outputs": [],
   "source": [
    "reconstructed_model.summary()"
   ],
   "metadata": {
    "collapsed": false,
    "pycharm": {
     "name": "#%%\n"
    }
   }
  },
  {
   "cell_type": "code",
   "execution_count": null,
   "outputs": [],
   "source": [
    "heatmap = grad_cam.get_gradcam_heatmap(img_preprocessed,reconstructed_model, \"conv2d_1\")"
   ],
   "metadata": {
    "collapsed": false,
    "pycharm": {
     "name": "#%%\n"
    }
   }
  },
  {
   "cell_type": "markdown",
   "source": [
    "\"Delete all photos in saliencemap\""
   ],
   "metadata": {
    "collapsed": false,
    "pycharm": {
     "name": "#%% md\n"
    }
   }
  },
  {
   "cell_type": "code",
   "execution_count": null,
   "outputs": [],
   "source": [
    "import os, shutil\n",
    "folder = '/mnt/0A60B2CB60B2BD2F/Projects/leo_flow_regime_recognition/data/saliencemap'\n",
    "for filename in os.listdir(folder):\n",
    "    file_path = os.path.join(folder, filename)\n",
    "    try:\n",
    "        if os.path.isfile(file_path) or os.path.islink(file_path):\n",
    "            os.unlink(file_path)\n",
    "        elif os.path.isdir(file_path):\n",
    "            shutil.rmtree(file_path)\n",
    "    except Exception as e:\n",
    "        print('Failed to delete %s. Reason: %s' % (file_path, e))"
   ],
   "metadata": {
    "collapsed": false,
    "pycharm": {
     "name": "#%%\n"
    }
   }
  },
  {
   "cell_type": "markdown",
   "source": [
    "\"Mark calculate gradcam\""
   ],
   "metadata": {
    "collapsed": false,
    "pycharm": {
     "name": "#%% md\n"
    }
   }
  },
  {
   "cell_type": "code",
   "execution_count": null,
   "outputs": [],
   "source": [
    "alphaIncrement=0.0\n",
    "j=1\n",
    "jIncrement=1\n",
    "heatmapType=\"cool\"\n",
    "for i in range(1):\n",
    "    alpha=0.9975\n",
    "    for k in range(1):\n",
    "        salienceMap = grad_cam.combine_image_and_heatmap(img,heatmap,alpha,heatmapType)\n",
    "        picture= array_to_img(salienceMap)\n",
    "        picture.save(\"/mnt/0A60B2CB60B2BD2F/Projects/leo_flow_regime_recognition/data/saliencemap/\"+heatmapType+\"_alpha\"+str(alpha)+\"_\"+inferedClass+str(round(classaccuracy*1000))+\".png\")\n",
    "        alpha=alpha+alphaIncrement\n",
    "    j=j+jIncrement"
   ],
   "metadata": {
    "collapsed": false,
    "pycharm": {
     "name": "#%%\n"
    }
   }
  }
 ],
 "metadata": {
  "kernelspec": {
   "display_name": "Python 3",
   "language": "python",
   "name": "python3"
  },
  "language_info": {
   "codemirror_mode": {
    "name": "ipython",
    "version": 2
   },
   "file_extension": ".py",
   "mimetype": "text/x-python",
   "name": "python",
   "nbconvert_exporter": "python",
   "pygments_lexer": "ipython2",
   "version": "2.7.6"
  }
 },
 "nbformat": 4,
 "nbformat_minor": 0
}