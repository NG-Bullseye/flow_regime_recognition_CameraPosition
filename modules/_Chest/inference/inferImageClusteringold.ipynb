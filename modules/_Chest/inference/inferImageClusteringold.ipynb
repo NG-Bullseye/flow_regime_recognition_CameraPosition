{
 "cells": [
  {
   "cell_type": "code",
   "execution_count": 1,
   "metadata": {
    "collapsed": true,
    "pycharm": {
     "name": "#%%\n"
    }
   },
   "outputs": [
    {
     "name": "stderr",
     "output_type": "stream",
     "text": [
      "2022-06-28 20:03:29.104163: I tensorflow/core/util/util.cc:169] oneDNN custom operations are on. You may see slightly different numerical results due to floating-point round-off errors from different computation orders. To turn them off, set the environment variable `TF_ENABLE_ONEDNN_OPTS=0`.\n"
     ]
    }
   ],
   "source": [
    "import matplotlib.pyplot as plt\n",
    "import numpy as np\n",
    "import tensorflow as tf\n",
    "import tensorflow as tf\n",
    "import json\n",
    "import os\n",
    "import sys\n",
    "import cv2\n",
    "import yaml\n",
    "import numpy as np\n",
    "from tensorflow.python.keras import backend as K\n",
    "p = os.path.abspath('.')\n",
    "sys.path.insert(1, p)\n",
    "from models.lenet5Autoencode import LeNet\n",
    "from data_import_and_preprocessing.dataset_formation import DataParser, ImageDataExtractor, LabelExtractor, \\\n",
    "    DataSetCreator\n",
    "os.environ[\"CUDA_VISIBLE_DEVICES\"] = \"0\"\n",
    "\n",
    "physical_devices = tf.config.list_physical_devices('GPU')\n",
    "tf.config.experimental.set_memory_growth(physical_devices[0], True)"
   ]
  },
  {
   "cell_type": "markdown",
   "source": [
    "\"initialize Dataset and training params from params.yml\""
   ],
   "metadata": {
    "collapsed": false,
    "pycharm": {
     "name": "#%% md\n"
    }
   }
  },
  {
   "cell_type": "code",
   "execution_count": 2,
   "outputs": [
    {
     "name": "stdout",
     "output_type": "stream",
     "text": [
      "/mnt/0A60B2CB60B2BD2F/Projects/leo_flow_regime_recognition/inference\n",
      "/mnt/0A60B2CB60B2BD2F/Projects/leo_flow_regime_recognition\n"
     ]
    },
    {
     "name": "stderr",
     "output_type": "stream",
     "text": [
      "2022-06-28 20:03:35.083590: I tensorflow/core/platform/cpu_feature_guard.cc:193] This TensorFlow binary is optimized with oneAPI Deep Neural Network Library (oneDNN) to use the following CPU instructions in performance-critical operations:  AVX2 AVX512F AVX512_VNNI FMA\n",
      "To enable them in other operations, rebuild TensorFlow with the appropriate compiler flags.\n",
      "2022-06-28 20:03:35.733490: I tensorflow/core/common_runtime/gpu/gpu_device.cc:1532] Created device /job:localhost/replica:0/task:0/device:GPU:0 with 5402 MB memory:  -> device: 0, name: Quadro RTX 4000, pci bus id: 0000:18:00.0, compute capability: 7.5\n"
     ]
    }
   ],
   "source": [
    "print(os.getcwd())\n",
    "os.chdir('/mnt/0A60B2CB60B2BD2F/Projects/leo_flow_regime_recognition')\n",
    "print(os.getcwd())\n",
    "with open('params.yaml', 'r') as stream:\n",
    "    params = yaml.safe_load(stream)\n",
    "    no_epochs = params['training']['no_epochs']\n",
    "    batch_size = params['training']['batch_size']\n",
    "    loss = params['training']['loss']\n",
    "    picture_width = params['preprocessing']['picture_width']\n",
    "    picture_hight = params['preprocessing']['picture_hight']\n",
    "    no_classes = params['preprocessing']['no_classes']\n",
    "\n",
    "    data_dir = 'data/preprocessed'\n",
    "    data_parser = DataParser(data_dir)\n",
    "    image_data_extractor = ImageDataExtractor((picture_width, picture_hight, 1))\n",
    "    label_extractor = LabelExtractor(no_classes=no_classes) #anzahl der classen\n",
    "    dataset = DataSetCreator(data_parser, image_data_extractor, label_extractor, no_repeats=no_epochs)\n",
    "    no_points = len(dataset)\n",
    "    no_points_train = int(no_points * 0.8)\n",
    "    no_points_val = int(no_points * 0.1)\n",
    "\n",
    "    dataset_train = dataset.take(no_points=no_points_train)"
   ],
   "metadata": {
    "collapsed": false,
    "pycharm": {
     "name": "#%%\n"
    }
   }
  },
  {
   "cell_type": "markdown",
   "source": [
    "## load model"
   ],
   "metadata": {
    "collapsed": false,
    "pycharm": {
     "name": "#%% md\n"
    }
   }
  },
  {
   "cell_type": "code",
   "execution_count": 3,
   "outputs": [],
   "source": [
    "model_path = \"/mnt/0A60B2CB60B2BD2F/Projects/leo_flow_regime_recognition/training/model/trained_model.h5\"\n",
    "reconstructed_model = tf.keras.models.load_model(model_path)"
   ],
   "metadata": {
    "collapsed": false,
    "pycharm": {
     "name": "#%%\n"
    }
   }
  },
  {
   "cell_type": "markdown",
   "source": [
    "## load img and infer class label"
   ],
   "metadata": {
    "collapsed": false,
    "pycharm": {
     "name": "#%% md\n"
    }
   }
  },
  {
   "cell_type": "code",
   "execution_count": 4,
   "outputs": [
    {
     "name": "stderr",
     "output_type": "stream",
     "text": [
      "2022-06-28 20:03:36.861358: I tensorflow/stream_executor/cuda/cuda_dnn.cc:384] Loaded cuDNN version 8201\n",
      "2022-06-28 20:03:37.376166: W tensorflow/stream_executor/gpu/asm_compiler.cc:111] *** WARNING *** You are using ptxas 11.0.221, which is older than 11.1. ptxas before 11.1 is known to miscompile XLA code, leading to incorrect results or invalid-address errors.\n",
      "\n",
      "You may not need to update to CUDA 11.1; cherry-picking the ptxas binary is often sufficient.\n"
     ]
    },
    {
     "name": "stdout",
     "output_type": "stream",
     "text": [
      "1/1 [==============================] - 2s 2s/step\n"
     ]
    }
   ],
   "source": [
    "path = '/mnt/0A60B2CB60B2BD2F/Projects/leo_flow_regime_recognition/data/preprocessed/1100000001.png'\n",
    "img = cv2.imread(path)\n",
    "img = cv2.cvtColor(img, cv2.COLOR_BGR2GRAY)\n",
    "img = cv2.resize(img, (32, 32), interpolation=cv2.INTER_CUBIC)\n",
    "img_preprocessed  = img / 255\n",
    "\n",
    "x = np.expand_dims(img_preprocessed, axis=0)\n",
    "\n",
    "\n",
    "preds = reconstructed_model.predict(x)"
   ],
   "metadata": {
    "collapsed": false,
    "pycharm": {
     "name": "#%%\n"
    }
   }
  },
  {
   "cell_type": "markdown",
   "source": [
    "## pretty the prediction for console output"
   ],
   "metadata": {
    "collapsed": false,
    "pycharm": {
     "name": "#%% md\n"
    }
   }
  },
  {
   "cell_type": "code",
   "execution_count": 5,
   "outputs": [
    {
     "name": "stdout",
     "output_type": "stream",
     "text": [
      "Flooded: 0.999\n"
     ]
    }
   ],
   "source": [
    "pred=np.around(preds,3)\n",
    "i=0\n",
    "inferedClass=\"\"\n",
    "classaccuracy=0\n",
    "\n",
    "inferedAccuracyFlooded=0\n",
    "inferedAccuracyLoaded=0\n",
    "inferedAccuracyDispersed=0\n",
    "\n",
    "for v in pred[0]:\n",
    "    if i==0:\n",
    "        inferedAccuracyFlooded = v\n",
    "    if i==1:\n",
    "        inferedAccuracyLoaded = v\n",
    "    if i==2:\n",
    "        inferedAccuracyDispersed = v\n",
    "    i=i+1\n",
    "classaccuracy = max(inferedAccuracyFlooded,inferedAccuracyDispersed,inferedAccuracyLoaded)\n",
    "if classaccuracy == inferedAccuracyFlooded:\n",
    "    inferedClass= \"Flooded\"\n",
    "if classaccuracy == inferedAccuracyLoaded:\n",
    "    inferedClass= \"Loaded\"\n",
    "if classaccuracy == inferedAccuracyDispersed:\n",
    "    inferedClass= \"Despersed\"\n",
    "print(inferedClass+\": \"+str(classaccuracy))"
   ],
   "metadata": {
    "collapsed": false,
    "pycharm": {
     "name": "#%%\n"
    }
   }
  },
  {
   "cell_type": "markdown",
   "source": [
    "## get dense autoencode auxilary putput"
   ],
   "metadata": {
    "collapsed": false,
    "pycharm": {
     "name": "#%% md\n"
    }
   }
  },
  {
   "cell_type": "code",
   "execution_count": 6,
   "outputs": [
    {
     "data": {
      "text/plain": "array([[-57.807453,  10.693283]], dtype=float32)"
     },
     "execution_count": 6,
     "metadata": {},
     "output_type": "execute_result"
    }
   ],
   "source": [
    "reconstructed_model.layers[11].output\n",
    "autoencodeLayer = K.function([reconstructed_model.layers[0].input], [reconstructed_model.layers[11].output])\n",
    "autoencodeLayer_output = autoencodeLayer(x)[0]\n",
    "autoencodeLayer_output"
   ],
   "metadata": {
    "collapsed": false,
    "pycharm": {
     "name": "#%%\n"
    }
   }
  },
  {
   "cell_type": "markdown",
   "source": [
    "## asign Points"
   ],
   "metadata": {
    "collapsed": false,
    "pycharm": {
     "name": "#%% md\n"
    }
   }
  },
  {
   "cell_type": "code",
   "execution_count": 7,
   "outputs": [
    {
     "name": "stdout",
     "output_type": "stream",
     "text": [
      "/mnt/0A60B2CB60B2BD2F/Projects/leo_flow_regime_recognition\n",
      "/mnt/0A60B2CB60B2BD2F/Projects/leo_flow_regime_recognition\n"
     ]
    }
   ],
   "source": [
    "from data_import_and_preprocessing.dataset_formation import DataParser, ImageDataExtractor, LabelExtractor, \\\n",
    "    DataSetCreator\n",
    "\n",
    "print(os.getcwd())\n",
    "os.chdir('/mnt/0A60B2CB60B2BD2F/Projects/leo_flow_regime_recognition')\n",
    "print(os.getcwd())\n",
    "with open('params.yaml', 'r') as stream:\n",
    "    params = yaml.safe_load(stream)\n",
    "no_epochs = params['training']['no_epochs']\n",
    "batch_size = params['training']['batch_size']\n",
    "picture_width = params['preprocessing']['picture_width']\n",
    "picture_hight = params['preprocessing']['picture_hight']\n",
    "no_classes = params['preprocessing']['no_classes']\n",
    "\n",
    "data_dir = 'data/preprocessed'\n",
    "data_parser = DataParser(data_dir)\n",
    "image_data_extractor = ImageDataExtractor((picture_width, picture_hight, 1))\n",
    "label_extractor = LabelExtractor(no_classes=no_classes) #anzahl der classen\n",
    "dataset = DataSetCreator(data_parser, image_data_extractor, label_extractor, no_repeats=no_epochs)\n",
    "pathList = []\n",
    "for imagePath in dataset.data_points:\n",
    "    pathList.append(imagePath.path_to_data)"
   ],
   "metadata": {
    "collapsed": false,
    "pycharm": {
     "name": "#%%\n"
    }
   }
  },
  {
   "cell_type": "code",
   "execution_count": 8,
   "outputs": [],
   "source": [
    "from models.lenet5Autoencode import LeNet\n",
    "\n",
    "#Create a clustering model\n",
    "points_n = 200\n",
    "clusters_n = 3\n",
    "iteration_n = 100\n",
    "\n",
    "model = LeNet\n",
    "\n",
    "points = tf.constant(np.random.uniform(0, 10, (points_n, 2)))"
   ],
   "metadata": {
    "collapsed": false,
    "pycharm": {
     "name": "#%%\n"
    }
   }
  },
  {
   "cell_type": "code",
   "execution_count": 9,
   "outputs": [
    {
     "data": {
      "text/plain": "<tf.Tensor: shape=(200, 2), dtype=float64, numpy=\narray([[8.70110121, 1.28253794],\n       [4.69954951, 3.28160286],\n       [5.90212486, 3.8803889 ],\n       [4.88482089, 6.1665389 ],\n       [5.09070501, 5.52621182],\n       [3.27523305, 3.48483219],\n       [3.23213632, 0.08859406],\n       [3.34313251, 8.69349635],\n       [5.96119309, 2.20226008],\n       [2.25613342, 6.75710026],\n       [0.84288169, 8.27230655],\n       [0.54522095, 4.82398021],\n       [4.30579027, 1.29084972],\n       [9.18798763, 6.21219793],\n       [5.05638562, 8.36076035],\n       [6.73652374, 4.78826689],\n       [8.99025292, 4.30978937],\n       [4.8746782 , 8.43155567],\n       [4.23413013, 4.85351229],\n       [2.63855926, 6.99225915],\n       [7.8080841 , 3.34101108],\n       [6.92544462, 2.72026321],\n       [5.83455921, 0.16724449],\n       [8.16191823, 2.91620296],\n       [7.24058394, 7.59554483],\n       [0.74267114, 1.1587399 ],\n       [6.44093837, 2.87301836],\n       [8.40765616, 7.86830973],\n       [3.32392964, 5.39048252],\n       [6.36305102, 7.83668867],\n       [3.85402733, 1.36162555],\n       [8.51221246, 5.90074987],\n       [9.43837146, 5.86976914],\n       [3.59445488, 0.80126031],\n       [8.36814225, 1.89388959],\n       [1.14869246, 3.42238498],\n       [0.40948316, 2.96255467],\n       [4.37404536, 1.61796141],\n       [3.90229414, 1.09510798],\n       [1.38015844, 8.05803456],\n       [4.36375604, 3.92648129],\n       [3.81373576, 9.44307364],\n       [7.34310571, 5.63334794],\n       [1.48133234, 0.94352882],\n       [2.15537927, 9.06285937],\n       [1.09228651, 2.97066855],\n       [2.05046605, 6.85243256],\n       [2.54350261, 0.51091198],\n       [1.11083588, 2.56538943],\n       [5.08655584, 7.46410424],\n       [9.80231755, 5.71982747],\n       [9.1097901 , 3.91398151],\n       [0.88175262, 9.67574208],\n       [0.13178538, 9.81399932],\n       [6.62716347, 1.06302184],\n       [2.89423816, 2.93524639],\n       [8.74654739, 9.9839728 ],\n       [4.8236414 , 4.82397748],\n       [4.28416308, 9.01991942],\n       [0.25191193, 3.47727122],\n       [1.60585574, 9.56401401],\n       [5.6719369 , 1.63494026],\n       [6.21446705, 2.24000761],\n       [5.10698364, 8.89742492],\n       [0.91947083, 8.70516872],\n       [9.3900417 , 5.6595505 ],\n       [1.48011164, 7.52969864],\n       [5.10892032, 8.25236599],\n       [7.31471683, 3.21801142],\n       [6.86676997, 1.94070058],\n       [0.69243012, 9.13501548],\n       [6.62758449, 2.66668165],\n       [5.46919049, 4.99702808],\n       [5.21812695, 7.02130923],\n       [3.9401581 , 0.92488378],\n       [9.81813986, 4.05212033],\n       [1.33567739, 2.20622585],\n       [9.48665091, 2.89220473],\n       [6.7579888 , 0.42126885],\n       [2.53079556, 5.26882031],\n       [9.16698871, 2.45103389],\n       [5.52593877, 0.3911053 ],\n       [0.08483998, 7.58100358],\n       [1.58446651, 2.94865784],\n       [0.7780671 , 3.72861859],\n       [2.61492306, 2.71743779],\n       [9.92040296, 7.71444882],\n       [0.31375472, 6.84832539],\n       [9.89499911, 1.828891  ],\n       [5.4822327 , 7.51525059],\n       [8.01218982, 7.44293628],\n       [9.47114521, 8.98159804],\n       [2.76828754, 6.92666114],\n       [7.05081108, 5.36577526],\n       [0.59303467, 0.37987858],\n       [9.80590005, 6.19960264],\n       [2.37786871, 8.43682554],\n       [7.0445504 , 6.47247788],\n       [5.98641182, 4.5596371 ],\n       [8.56021029, 9.89515798],\n       [1.57959988, 9.81667809],\n       [0.67340039, 9.29463096],\n       [5.35048581, 6.11685094],\n       [3.40803611, 3.13644871],\n       [9.72866681, 3.34852497],\n       [7.46507555, 1.37800686],\n       [8.2546065 , 0.64096302],\n       [0.44948717, 2.69787431],\n       [1.56652514, 5.1551244 ],\n       [4.00093425, 6.53550512],\n       [7.07342862, 1.17621659],\n       [4.84475459, 2.91753277],\n       [5.83556817, 1.09628822],\n       [6.55997575, 7.97996806],\n       [0.55561545, 0.55692488],\n       [1.11994726, 2.03866913],\n       [0.28556075, 9.18728848],\n       [5.8449407 , 8.59095215],\n       [9.24792291, 9.36353359],\n       [4.48338126, 0.92948885],\n       [3.10088183, 7.70692796],\n       [3.1409827 , 7.97405945],\n       [5.28927333, 8.4321525 ],\n       [5.25669672, 8.79491358],\n       [9.41700676, 8.19471761],\n       [3.58869755, 8.21729419],\n       [7.85100528, 5.24475718],\n       [6.44601128, 5.6199053 ],\n       [3.53774254, 6.46527508],\n       [8.49163028, 1.76030119],\n       [0.53352377, 9.88580039],\n       [7.32589824, 4.06505434],\n       [8.31986747, 6.64952971],\n       [1.51033396, 7.77289455],\n       [0.18397289, 9.35010922],\n       [0.95865889, 9.34890384],\n       [4.00111841, 9.69182041],\n       [9.27298839, 8.29704328],\n       [4.94623036, 5.16668085],\n       [4.39320496, 1.20907273],\n       [2.16702472, 5.77511924],\n       [4.89617355, 2.18869003],\n       [0.49064874, 0.03948422],\n       [6.7883818 , 7.42104613],\n       [3.85583279, 6.02638994],\n       [1.3103982 , 3.0080516 ],\n       [8.3473748 , 6.61721179],\n       [9.43565882, 0.41071504],\n       [5.90684388, 2.81268105],\n       [0.70069658, 6.17411627],\n       [4.84366417, 1.10669028],\n       [9.28325111, 2.59439689],\n       [4.47157483, 2.42137811],\n       [5.24878508, 0.26753172],\n       [2.05576953, 0.88101861],\n       [3.1814929 , 6.10765113],\n       [3.43563728, 3.16958868],\n       [0.35029195, 0.59020997],\n       [3.46734774, 5.16106184],\n       [0.24228728, 6.08191548],\n       [3.36809911, 8.34222147],\n       [1.35859681, 6.50725062],\n       [6.63247566, 0.0197653 ],\n       [9.76844749, 8.53876454],\n       [2.07048568, 7.536391  ],\n       [4.50534527, 7.9487914 ],\n       [8.7685187 , 7.63100722],\n       [9.8259604 , 0.11439319],\n       [7.33602236, 3.2127217 ],\n       [6.36463967, 3.55473065],\n       [1.89353053, 0.32121552],\n       [2.95483288, 8.17342182],\n       [3.05407794, 5.11077647],\n       [6.96732495, 9.01773467],\n       [4.73694018, 3.10674649],\n       [2.00244674, 4.96406316],\n       [9.03599466, 5.47120256],\n       [9.34336962, 7.12415904],\n       [0.20679619, 0.57277689],\n       [4.26590895, 0.61409955],\n       [8.15866033, 6.56406531],\n       [4.35451701, 8.10079678],\n       [5.19935527, 9.20557115],\n       [5.14550561, 1.38673568],\n       [3.47771656, 3.18685052],\n       [8.36428232, 4.40684119],\n       [9.97224274, 0.48272033],\n       [0.43520898, 5.7243291 ],\n       [6.87090196, 4.02498431],\n       [9.31519296, 9.14588542],\n       [5.12638519, 6.21684   ],\n       [3.15506294, 4.66789709],\n       [2.84242039, 7.90416747],\n       [6.75605992, 3.41051552],\n       [9.42993719, 3.43670096],\n       [6.26118339, 6.76972094],\n       [6.47422202, 2.33943949],\n       [5.80142878, 4.92135327],\n       [5.5099136 , 5.5187677 ],\n       [6.10635729, 2.32670369]])>"
     },
     "execution_count": 9,
     "metadata": {},
     "output_type": "execute_result"
    }
   ],
   "source": [
    "points"
   ],
   "metadata": {
    "collapsed": false,
    "pycharm": {
     "name": "#%%\n"
    }
   }
  },
  {
   "cell_type": "code",
   "execution_count": 10,
   "outputs": [],
   "source": [
    "\n",
    "centroids = tf.Variable(tf.slice(tf.random.shuffle(points), [0, 0], [clusters_n, -1]))\n",
    "\n",
    "points_expanded = tf.expand_dims(points, 0)\n",
    "centroids_expanded = tf.expand_dims(centroids, 1)\n",
    "\n",
    "distances = tf.reduce_sum(tf.square(tf.subtract(points_expanded, centroids_expanded)), 2)\n",
    "assignments = tf.argmin(distances, 0)\n",
    "\n",
    "means = []\n",
    "for c in range(clusters_n):\n",
    "    means.append(tf.reduce_mean(\n",
    "      tf.gather(points,\n",
    "                tf.reshape(\n",
    "                  tf.where(\n",
    "                    tf.equal(assignments, c)\n",
    "                  ),[1,-1])\n",
    "               ),[1]))\n",
    "\n",
    "new_centroids = tf.concat(means, 0)\n",
    "\n",
    "update_centroids =  tf.compat.v1.assign(centroids, new_centroids)\n",
    "init = tf.compat.v1.global_variables_initializer()\n",
    "\n"
   ],
   "metadata": {
    "collapsed": false,
    "pycharm": {
     "name": "#%%\n"
    }
   }
  },
  {
   "cell_type": "markdown",
   "source": [
    "## init clustering"
   ],
   "metadata": {
    "collapsed": false,
    "pycharm": {
     "name": "#%% md\n"
    }
   }
  },
  {
   "cell_type": "code",
   "execution_count": 11,
   "outputs": [],
   "source": [
    "centroids = tf.Variable(tf.slice(tf.random.shuffle(points), [0, 0], [clusters_n, -1]))\n",
    "\n",
    "points_expanded = tf.expand_dims(points, 0)\n",
    "centroids_expanded = tf.expand_dims(centroids, 1)\n",
    "\n",
    "distances = tf.reduce_sum(tf.square(tf.subtract(points_expanded, centroids_expanded)), 2)\n",
    "assignments = tf.argmin(distances, 0)\n",
    "\n",
    "means = []\n",
    "for c in range(clusters_n):\n",
    "    means.append(tf.reduce_mean(\n",
    "      tf.gather(points,\n",
    "                tf.reshape(\n",
    "                  tf.where(\n",
    "                    tf.equal(assignments, c)\n",
    "                  ),[1,-1])\n",
    "               ),[1]))\n",
    "\n",
    "new_centroids = tf.concat(means, 0)\n",
    "\n",
    "update_centroids =  tf.compat.v1.assign(centroids, new_centroids)\n",
    "init = tf.compat.v1.global_variables_initializer()"
   ],
   "metadata": {
    "collapsed": false,
    "pycharm": {
     "name": "#%%\n"
    }
   }
  },
  {
   "cell_type": "markdown",
   "source": [
    "## Build clusters and display results"
   ],
   "metadata": {
    "collapsed": false,
    "pycharm": {
     "name": "#%% md\n"
    }
   }
  },
  {
   "cell_type": "code",
   "execution_count": 12,
   "outputs": [
    {
     "name": "stdout",
     "output_type": "stream",
     "text": [
      "centroids <tf.Variable 'Variable:0' shape=(3, 2) dtype=float64, numpy=\n",
      "array([[1.37837409, 2.46519323],\n",
      "       [4.95193301, 7.88310759],\n",
      "       [6.22068664, 2.9483463 ]])>\n",
      "centroids <tf.Variable 'Variable:0' shape=(3, 2) dtype=float64, numpy=\n",
      "array([[1.37837409, 2.46519323],\n",
      "       [4.95193301, 7.88310759],\n",
      "       [6.22068664, 2.9483463 ]])>\n",
      "centroids <tf.Variable 'Variable:0' shape=(3, 2) dtype=float64, numpy=\n",
      "array([[1.37837409, 2.46519323],\n",
      "       [4.95193301, 7.88310759],\n",
      "       [6.22068664, 2.9483463 ]])>\n",
      "centroids <tf.Variable 'Variable:0' shape=(3, 2) dtype=float64, numpy=\n",
      "array([[1.37837409, 2.46519323],\n",
      "       [4.95193301, 7.88310759],\n",
      "       [6.22068664, 2.9483463 ]])>\n",
      "centroids <tf.Variable 'Variable:0' shape=(3, 2) dtype=float64, numpy=\n",
      "array([[1.37837409, 2.46519323],\n",
      "       [4.95193301, 7.88310759],\n",
      "       [6.22068664, 2.9483463 ]])>\n",
      "centroids <tf.Variable 'Variable:0' shape=(3, 2) dtype=float64, numpy=\n",
      "array([[1.37837409, 2.46519323],\n",
      "       [4.95193301, 7.88310759],\n",
      "       [6.22068664, 2.9483463 ]])>\n",
      "centroids <tf.Variable 'Variable:0' shape=(3, 2) dtype=float64, numpy=\n",
      "array([[1.37837409, 2.46519323],\n",
      "       [4.95193301, 7.88310759],\n",
      "       [6.22068664, 2.9483463 ]])>\n",
      "centroids <tf.Variable 'Variable:0' shape=(3, 2) dtype=float64, numpy=\n",
      "array([[1.37837409, 2.46519323],\n",
      "       [4.95193301, 7.88310759],\n",
      "       [6.22068664, 2.9483463 ]])>\n",
      "centroids <tf.Variable 'Variable:0' shape=(3, 2) dtype=float64, numpy=\n",
      "array([[1.37837409, 2.46519323],\n",
      "       [4.95193301, 7.88310759],\n",
      "       [6.22068664, 2.9483463 ]])>\n",
      "centroids <tf.Variable 'Variable:0' shape=(3, 2) dtype=float64, numpy=\n",
      "array([[1.37837409, 2.46519323],\n",
      "       [4.95193301, 7.88310759],\n",
      "       [6.22068664, 2.9483463 ]])>\n",
      "centroids <tf.Variable 'Variable:0' shape=(3, 2) dtype=float64, numpy=\n",
      "array([[1.37837409, 2.46519323],\n",
      "       [4.95193301, 7.88310759],\n",
      "       [6.22068664, 2.9483463 ]])>\n",
      "centroids <tf.Variable 'Variable:0' shape=(3, 2) dtype=float64, numpy=\n",
      "array([[1.37837409, 2.46519323],\n",
      "       [4.95193301, 7.88310759],\n",
      "       [6.22068664, 2.9483463 ]])>\n",
      "centroids <tf.Variable 'Variable:0' shape=(3, 2) dtype=float64, numpy=\n",
      "array([[1.37837409, 2.46519323],\n",
      "       [4.95193301, 7.88310759],\n",
      "       [6.22068664, 2.9483463 ]])>\n",
      "centroids <tf.Variable 'Variable:0' shape=(3, 2) dtype=float64, numpy=\n",
      "array([[1.37837409, 2.46519323],\n",
      "       [4.95193301, 7.88310759],\n",
      "       [6.22068664, 2.9483463 ]])>\n",
      "centroids <tf.Variable 'Variable:0' shape=(3, 2) dtype=float64, numpy=\n",
      "array([[1.37837409, 2.46519323],\n",
      "       [4.95193301, 7.88310759],\n",
      "       [6.22068664, 2.9483463 ]])>\n",
      "centroids <tf.Variable 'Variable:0' shape=(3, 2) dtype=float64, numpy=\n",
      "array([[1.37837409, 2.46519323],\n",
      "       [4.95193301, 7.88310759],\n",
      "       [6.22068664, 2.9483463 ]])>\n",
      "centroids <tf.Variable 'Variable:0' shape=(3, 2) dtype=float64, numpy=\n",
      "array([[1.37837409, 2.46519323],\n",
      "       [4.95193301, 7.88310759],\n",
      "       [6.22068664, 2.9483463 ]])>\n",
      "centroids <tf.Variable 'Variable:0' shape=(3, 2) dtype=float64, numpy=\n",
      "array([[1.37837409, 2.46519323],\n",
      "       [4.95193301, 7.88310759],\n",
      "       [6.22068664, 2.9483463 ]])>\n",
      "centroids <tf.Variable 'Variable:0' shape=(3, 2) dtype=float64, numpy=\n",
      "array([[1.37837409, 2.46519323],\n",
      "       [4.95193301, 7.88310759],\n",
      "       [6.22068664, 2.9483463 ]])>\n",
      "centroids <tf.Variable 'Variable:0' shape=(3, 2) dtype=float64, numpy=\n",
      "array([[1.37837409, 2.46519323],\n",
      "       [4.95193301, 7.88310759],\n",
      "       [6.22068664, 2.9483463 ]])>\n",
      "centroids <tf.Variable 'Variable:0' shape=(3, 2) dtype=float64, numpy=\n",
      "array([[1.37837409, 2.46519323],\n",
      "       [4.95193301, 7.88310759],\n",
      "       [6.22068664, 2.9483463 ]])>\n",
      "centroids <tf.Variable 'Variable:0' shape=(3, 2) dtype=float64, numpy=\n",
      "array([[1.37837409, 2.46519323],\n",
      "       [4.95193301, 7.88310759],\n",
      "       [6.22068664, 2.9483463 ]])>\n",
      "centroids <tf.Variable 'Variable:0' shape=(3, 2) dtype=float64, numpy=\n",
      "array([[1.37837409, 2.46519323],\n",
      "       [4.95193301, 7.88310759],\n",
      "       [6.22068664, 2.9483463 ]])>\n",
      "centroids <tf.Variable 'Variable:0' shape=(3, 2) dtype=float64, numpy=\n",
      "array([[1.37837409, 2.46519323],\n",
      "       [4.95193301, 7.88310759],\n",
      "       [6.22068664, 2.9483463 ]])>\n",
      "centroids <tf.Variable 'Variable:0' shape=(3, 2) dtype=float64, numpy=\n",
      "array([[1.37837409, 2.46519323],\n",
      "       [4.95193301, 7.88310759],\n",
      "       [6.22068664, 2.9483463 ]])>\n",
      "centroids <tf.Variable 'Variable:0' shape=(3, 2) dtype=float64, numpy=\n",
      "array([[1.37837409, 2.46519323],\n",
      "       [4.95193301, 7.88310759],\n",
      "       [6.22068664, 2.9483463 ]])>\n",
      "centroids <tf.Variable 'Variable:0' shape=(3, 2) dtype=float64, numpy=\n",
      "array([[1.37837409, 2.46519323],\n",
      "       [4.95193301, 7.88310759],\n",
      "       [6.22068664, 2.9483463 ]])>\n",
      "centroids <tf.Variable 'Variable:0' shape=(3, 2) dtype=float64, numpy=\n",
      "array([[1.37837409, 2.46519323],\n",
      "       [4.95193301, 7.88310759],\n",
      "       [6.22068664, 2.9483463 ]])>\n",
      "centroids <tf.Variable 'Variable:0' shape=(3, 2) dtype=float64, numpy=\n",
      "array([[1.37837409, 2.46519323],\n",
      "       [4.95193301, 7.88310759],\n",
      "       [6.22068664, 2.9483463 ]])>\n",
      "centroids <tf.Variable 'Variable:0' shape=(3, 2) dtype=float64, numpy=\n",
      "array([[1.37837409, 2.46519323],\n",
      "       [4.95193301, 7.88310759],\n",
      "       [6.22068664, 2.9483463 ]])>\n",
      "centroids <tf.Variable 'Variable:0' shape=(3, 2) dtype=float64, numpy=\n",
      "array([[1.37837409, 2.46519323],\n",
      "       [4.95193301, 7.88310759],\n",
      "       [6.22068664, 2.9483463 ]])>\n",
      "centroids <tf.Variable 'Variable:0' shape=(3, 2) dtype=float64, numpy=\n",
      "array([[1.37837409, 2.46519323],\n",
      "       [4.95193301, 7.88310759],\n",
      "       [6.22068664, 2.9483463 ]])>\n",
      "centroids <tf.Variable 'Variable:0' shape=(3, 2) dtype=float64, numpy=\n",
      "array([[1.37837409, 2.46519323],\n",
      "       [4.95193301, 7.88310759],\n",
      "       [6.22068664, 2.9483463 ]])>\n",
      "centroids <tf.Variable 'Variable:0' shape=(3, 2) dtype=float64, numpy=\n",
      "array([[1.37837409, 2.46519323],\n",
      "       [4.95193301, 7.88310759],\n",
      "       [6.22068664, 2.9483463 ]])>\n",
      "centroids <tf.Variable 'Variable:0' shape=(3, 2) dtype=float64, numpy=\n",
      "array([[1.37837409, 2.46519323],\n",
      "       [4.95193301, 7.88310759],\n",
      "       [6.22068664, 2.9483463 ]])>\n",
      "centroids <tf.Variable 'Variable:0' shape=(3, 2) dtype=float64, numpy=\n",
      "array([[1.37837409, 2.46519323],\n",
      "       [4.95193301, 7.88310759],\n",
      "       [6.22068664, 2.9483463 ]])>\n",
      "centroids <tf.Variable 'Variable:0' shape=(3, 2) dtype=float64, numpy=\n",
      "array([[1.37837409, 2.46519323],\n",
      "       [4.95193301, 7.88310759],\n",
      "       [6.22068664, 2.9483463 ]])>\n",
      "centroids <tf.Variable 'Variable:0' shape=(3, 2) dtype=float64, numpy=\n",
      "array([[1.37837409, 2.46519323],\n",
      "       [4.95193301, 7.88310759],\n",
      "       [6.22068664, 2.9483463 ]])>\n",
      "centroids <tf.Variable 'Variable:0' shape=(3, 2) dtype=float64, numpy=\n",
      "array([[1.37837409, 2.46519323],\n",
      "       [4.95193301, 7.88310759],\n",
      "       [6.22068664, 2.9483463 ]])>\n",
      "centroids <tf.Variable 'Variable:0' shape=(3, 2) dtype=float64, numpy=\n",
      "array([[1.37837409, 2.46519323],\n",
      "       [4.95193301, 7.88310759],\n",
      "       [6.22068664, 2.9483463 ]])>\n",
      "centroids <tf.Variable 'Variable:0' shape=(3, 2) dtype=float64, numpy=\n",
      "array([[1.37837409, 2.46519323],\n",
      "       [4.95193301, 7.88310759],\n",
      "       [6.22068664, 2.9483463 ]])>\n",
      "centroids <tf.Variable 'Variable:0' shape=(3, 2) dtype=float64, numpy=\n",
      "array([[1.37837409, 2.46519323],\n",
      "       [4.95193301, 7.88310759],\n",
      "       [6.22068664, 2.9483463 ]])>\n",
      "centroids <tf.Variable 'Variable:0' shape=(3, 2) dtype=float64, numpy=\n",
      "array([[1.37837409, 2.46519323],\n",
      "       [4.95193301, 7.88310759],\n",
      "       [6.22068664, 2.9483463 ]])>\n",
      "centroids <tf.Variable 'Variable:0' shape=(3, 2) dtype=float64, numpy=\n",
      "array([[1.37837409, 2.46519323],\n",
      "       [4.95193301, 7.88310759],\n",
      "       [6.22068664, 2.9483463 ]])>\n",
      "centroids <tf.Variable 'Variable:0' shape=(3, 2) dtype=float64, numpy=\n",
      "array([[1.37837409, 2.46519323],\n",
      "       [4.95193301, 7.88310759],\n",
      "       [6.22068664, 2.9483463 ]])>\n",
      "centroids <tf.Variable 'Variable:0' shape=(3, 2) dtype=float64, numpy=\n",
      "array([[1.37837409, 2.46519323],\n",
      "       [4.95193301, 7.88310759],\n",
      "       [6.22068664, 2.9483463 ]])>\n",
      "centroids <tf.Variable 'Variable:0' shape=(3, 2) dtype=float64, numpy=\n",
      "array([[1.37837409, 2.46519323],\n",
      "       [4.95193301, 7.88310759],\n",
      "       [6.22068664, 2.9483463 ]])>\n",
      "centroids <tf.Variable 'Variable:0' shape=(3, 2) dtype=float64, numpy=\n",
      "array([[1.37837409, 2.46519323],\n",
      "       [4.95193301, 7.88310759],\n",
      "       [6.22068664, 2.9483463 ]])>\n",
      "centroids <tf.Variable 'Variable:0' shape=(3, 2) dtype=float64, numpy=\n",
      "array([[1.37837409, 2.46519323],\n",
      "       [4.95193301, 7.88310759],\n",
      "       [6.22068664, 2.9483463 ]])>\n",
      "centroids <tf.Variable 'Variable:0' shape=(3, 2) dtype=float64, numpy=\n",
      "array([[1.37837409, 2.46519323],\n",
      "       [4.95193301, 7.88310759],\n",
      "       [6.22068664, 2.9483463 ]])>\n",
      "centroids <tf.Variable 'Variable:0' shape=(3, 2) dtype=float64, numpy=\n",
      "array([[1.37837409, 2.46519323],\n",
      "       [4.95193301, 7.88310759],\n",
      "       [6.22068664, 2.9483463 ]])>\n",
      "centroids <tf.Variable 'Variable:0' shape=(3, 2) dtype=float64, numpy=\n",
      "array([[1.37837409, 2.46519323],\n",
      "       [4.95193301, 7.88310759],\n",
      "       [6.22068664, 2.9483463 ]])>\n",
      "centroids <tf.Variable 'Variable:0' shape=(3, 2) dtype=float64, numpy=\n",
      "array([[1.37837409, 2.46519323],\n",
      "       [4.95193301, 7.88310759],\n",
      "       [6.22068664, 2.9483463 ]])>\n",
      "centroids <tf.Variable 'Variable:0' shape=(3, 2) dtype=float64, numpy=\n",
      "array([[1.37837409, 2.46519323],\n",
      "       [4.95193301, 7.88310759],\n",
      "       [6.22068664, 2.9483463 ]])>\n",
      "centroids <tf.Variable 'Variable:0' shape=(3, 2) dtype=float64, numpy=\n",
      "array([[1.37837409, 2.46519323],\n",
      "       [4.95193301, 7.88310759],\n",
      "       [6.22068664, 2.9483463 ]])>\n",
      "centroids <tf.Variable 'Variable:0' shape=(3, 2) dtype=float64, numpy=\n",
      "array([[1.37837409, 2.46519323],\n",
      "       [4.95193301, 7.88310759],\n",
      "       [6.22068664, 2.9483463 ]])>\n",
      "centroids <tf.Variable 'Variable:0' shape=(3, 2) dtype=float64, numpy=\n",
      "array([[1.37837409, 2.46519323],\n",
      "       [4.95193301, 7.88310759],\n",
      "       [6.22068664, 2.9483463 ]])>\n",
      "centroids <tf.Variable 'Variable:0' shape=(3, 2) dtype=float64, numpy=\n",
      "array([[1.37837409, 2.46519323],\n",
      "       [4.95193301, 7.88310759],\n",
      "       [6.22068664, 2.9483463 ]])>\n",
      "centroids <tf.Variable 'Variable:0' shape=(3, 2) dtype=float64, numpy=\n",
      "array([[1.37837409, 2.46519323],\n",
      "       [4.95193301, 7.88310759],\n",
      "       [6.22068664, 2.9483463 ]])>\n",
      "centroids <tf.Variable 'Variable:0' shape=(3, 2) dtype=float64, numpy=\n",
      "array([[1.37837409, 2.46519323],\n",
      "       [4.95193301, 7.88310759],\n",
      "       [6.22068664, 2.9483463 ]])>\n",
      "centroids <tf.Variable 'Variable:0' shape=(3, 2) dtype=float64, numpy=\n",
      "array([[1.37837409, 2.46519323],\n",
      "       [4.95193301, 7.88310759],\n",
      "       [6.22068664, 2.9483463 ]])>\n",
      "centroids <tf.Variable 'Variable:0' shape=(3, 2) dtype=float64, numpy=\n",
      "array([[1.37837409, 2.46519323],\n",
      "       [4.95193301, 7.88310759],\n",
      "       [6.22068664, 2.9483463 ]])>\n",
      "centroids <tf.Variable 'Variable:0' shape=(3, 2) dtype=float64, numpy=\n",
      "array([[1.37837409, 2.46519323],\n",
      "       [4.95193301, 7.88310759],\n",
      "       [6.22068664, 2.9483463 ]])>\n",
      "centroids <tf.Variable 'Variable:0' shape=(3, 2) dtype=float64, numpy=\n",
      "array([[1.37837409, 2.46519323],\n",
      "       [4.95193301, 7.88310759],\n",
      "       [6.22068664, 2.9483463 ]])>\n",
      "centroids <tf.Variable 'Variable:0' shape=(3, 2) dtype=float64, numpy=\n",
      "array([[1.37837409, 2.46519323],\n",
      "       [4.95193301, 7.88310759],\n",
      "       [6.22068664, 2.9483463 ]])>\n",
      "centroids <tf.Variable 'Variable:0' shape=(3, 2) dtype=float64, numpy=\n",
      "array([[1.37837409, 2.46519323],\n",
      "       [4.95193301, 7.88310759],\n",
      "       [6.22068664, 2.9483463 ]])>\n",
      "centroids <tf.Variable 'Variable:0' shape=(3, 2) dtype=float64, numpy=\n",
      "array([[1.37837409, 2.46519323],\n",
      "       [4.95193301, 7.88310759],\n",
      "       [6.22068664, 2.9483463 ]])>\n",
      "centroids <tf.Variable 'Variable:0' shape=(3, 2) dtype=float64, numpy=\n",
      "array([[1.37837409, 2.46519323],\n",
      "       [4.95193301, 7.88310759],\n",
      "       [6.22068664, 2.9483463 ]])>\n",
      "centroids <tf.Variable 'Variable:0' shape=(3, 2) dtype=float64, numpy=\n",
      "array([[1.37837409, 2.46519323],\n",
      "       [4.95193301, 7.88310759],\n",
      "       [6.22068664, 2.9483463 ]])>\n",
      "centroids <tf.Variable 'Variable:0' shape=(3, 2) dtype=float64, numpy=\n",
      "array([[1.37837409, 2.46519323],\n",
      "       [4.95193301, 7.88310759],\n",
      "       [6.22068664, 2.9483463 ]])>\n",
      "centroids <tf.Variable 'Variable:0' shape=(3, 2) dtype=float64, numpy=\n",
      "array([[1.37837409, 2.46519323],\n",
      "       [4.95193301, 7.88310759],\n",
      "       [6.22068664, 2.9483463 ]])>\n",
      "centroids <tf.Variable 'Variable:0' shape=(3, 2) dtype=float64, numpy=\n",
      "array([[1.37837409, 2.46519323],\n",
      "       [4.95193301, 7.88310759],\n",
      "       [6.22068664, 2.9483463 ]])>\n",
      "centroids <tf.Variable 'Variable:0' shape=(3, 2) dtype=float64, numpy=\n",
      "array([[1.37837409, 2.46519323],\n",
      "       [4.95193301, 7.88310759],\n",
      "       [6.22068664, 2.9483463 ]])>\n",
      "centroids <tf.Variable 'Variable:0' shape=(3, 2) dtype=float64, numpy=\n",
      "array([[1.37837409, 2.46519323],\n",
      "       [4.95193301, 7.88310759],\n",
      "       [6.22068664, 2.9483463 ]])>\n",
      "centroids <tf.Variable 'Variable:0' shape=(3, 2) dtype=float64, numpy=\n",
      "array([[1.37837409, 2.46519323],\n",
      "       [4.95193301, 7.88310759],\n",
      "       [6.22068664, 2.9483463 ]])>\n",
      "centroids <tf.Variable 'Variable:0' shape=(3, 2) dtype=float64, numpy=\n",
      "array([[1.37837409, 2.46519323],\n",
      "       [4.95193301, 7.88310759],\n",
      "       [6.22068664, 2.9483463 ]])>\n",
      "centroids <tf.Variable 'Variable:0' shape=(3, 2) dtype=float64, numpy=\n",
      "array([[1.37837409, 2.46519323],\n",
      "       [4.95193301, 7.88310759],\n",
      "       [6.22068664, 2.9483463 ]])>\n",
      "centroids <tf.Variable 'Variable:0' shape=(3, 2) dtype=float64, numpy=\n",
      "array([[1.37837409, 2.46519323],\n",
      "       [4.95193301, 7.88310759],\n",
      "       [6.22068664, 2.9483463 ]])>\n",
      "centroids <tf.Variable 'Variable:0' shape=(3, 2) dtype=float64, numpy=\n",
      "array([[1.37837409, 2.46519323],\n",
      "       [4.95193301, 7.88310759],\n",
      "       [6.22068664, 2.9483463 ]])>\n",
      "centroids <tf.Variable 'Variable:0' shape=(3, 2) dtype=float64, numpy=\n",
      "array([[1.37837409, 2.46519323],\n",
      "       [4.95193301, 7.88310759],\n",
      "       [6.22068664, 2.9483463 ]])>\n",
      "centroids <tf.Variable 'Variable:0' shape=(3, 2) dtype=float64, numpy=\n",
      "array([[1.37837409, 2.46519323],\n",
      "       [4.95193301, 7.88310759],\n",
      "       [6.22068664, 2.9483463 ]])>\n",
      "centroids <tf.Variable 'Variable:0' shape=(3, 2) dtype=float64, numpy=\n",
      "array([[1.37837409, 2.46519323],\n",
      "       [4.95193301, 7.88310759],\n",
      "       [6.22068664, 2.9483463 ]])>\n",
      "centroids <tf.Variable 'Variable:0' shape=(3, 2) dtype=float64, numpy=\n",
      "array([[1.37837409, 2.46519323],\n",
      "       [4.95193301, 7.88310759],\n",
      "       [6.22068664, 2.9483463 ]])>\n",
      "centroids <tf.Variable 'Variable:0' shape=(3, 2) dtype=float64, numpy=\n",
      "array([[1.37837409, 2.46519323],\n",
      "       [4.95193301, 7.88310759],\n",
      "       [6.22068664, 2.9483463 ]])>\n",
      "centroids <tf.Variable 'Variable:0' shape=(3, 2) dtype=float64, numpy=\n",
      "array([[1.37837409, 2.46519323],\n",
      "       [4.95193301, 7.88310759],\n",
      "       [6.22068664, 2.9483463 ]])>\n",
      "centroids <tf.Variable 'Variable:0' shape=(3, 2) dtype=float64, numpy=\n",
      "array([[1.37837409, 2.46519323],\n",
      "       [4.95193301, 7.88310759],\n",
      "       [6.22068664, 2.9483463 ]])>\n",
      "centroids <tf.Variable 'Variable:0' shape=(3, 2) dtype=float64, numpy=\n",
      "array([[1.37837409, 2.46519323],\n",
      "       [4.95193301, 7.88310759],\n",
      "       [6.22068664, 2.9483463 ]])>\n",
      "centroids <tf.Variable 'Variable:0' shape=(3, 2) dtype=float64, numpy=\n",
      "array([[1.37837409, 2.46519323],\n",
      "       [4.95193301, 7.88310759],\n",
      "       [6.22068664, 2.9483463 ]])>\n",
      "centroids <tf.Variable 'Variable:0' shape=(3, 2) dtype=float64, numpy=\n",
      "array([[1.37837409, 2.46519323],\n",
      "       [4.95193301, 7.88310759],\n",
      "       [6.22068664, 2.9483463 ]])>\n",
      "centroids <tf.Variable 'Variable:0' shape=(3, 2) dtype=float64, numpy=\n",
      "array([[1.37837409, 2.46519323],\n",
      "       [4.95193301, 7.88310759],\n",
      "       [6.22068664, 2.9483463 ]])>\n",
      "centroids <tf.Variable 'Variable:0' shape=(3, 2) dtype=float64, numpy=\n",
      "array([[1.37837409, 2.46519323],\n",
      "       [4.95193301, 7.88310759],\n",
      "       [6.22068664, 2.9483463 ]])>\n",
      "centroids <tf.Variable 'Variable:0' shape=(3, 2) dtype=float64, numpy=\n",
      "array([[1.37837409, 2.46519323],\n",
      "       [4.95193301, 7.88310759],\n",
      "       [6.22068664, 2.9483463 ]])>\n",
      "centroids <tf.Variable 'Variable:0' shape=(3, 2) dtype=float64, numpy=\n",
      "array([[1.37837409, 2.46519323],\n",
      "       [4.95193301, 7.88310759],\n",
      "       [6.22068664, 2.9483463 ]])>\n",
      "centroids <tf.Variable 'Variable:0' shape=(3, 2) dtype=float64, numpy=\n",
      "array([[1.37837409, 2.46519323],\n",
      "       [4.95193301, 7.88310759],\n",
      "       [6.22068664, 2.9483463 ]])>\n",
      "centroids <tf.Variable 'Variable:0' shape=(3, 2) dtype=float64, numpy=\n",
      "array([[1.37837409, 2.46519323],\n",
      "       [4.95193301, 7.88310759],\n",
      "       [6.22068664, 2.9483463 ]])>\n",
      "centroids <tf.Variable 'Variable:0' shape=(3, 2) dtype=float64, numpy=\n",
      "array([[1.37837409, 2.46519323],\n",
      "       [4.95193301, 7.88310759],\n",
      "       [6.22068664, 2.9483463 ]])>\n",
      "centroids <tf.Variable 'Variable:0' shape=(3, 2) dtype=float64, numpy=\n",
      "array([[1.37837409, 2.46519323],\n",
      "       [4.95193301, 7.88310759],\n",
      "       [6.22068664, 2.9483463 ]])>\n",
      "centroids <tf.Variable 'Variable:0' shape=(3, 2) dtype=float64, numpy=\n",
      "array([[1.37837409, 2.46519323],\n",
      "       [4.95193301, 7.88310759],\n",
      "       [6.22068664, 2.9483463 ]])>\n",
      "centroids <tf.Variable 'Variable:0' shape=(3, 2) dtype=float64, numpy=\n",
      "array([[1.37837409, 2.46519323],\n",
      "       [4.95193301, 7.88310759],\n",
      "       [6.22068664, 2.9483463 ]])>\n",
      "centroids <tf.Variable 'Variable:0' shape=(3, 2) dtype=float64, numpy=\n",
      "array([[1.37837409, 2.46519323],\n",
      "       [4.95193301, 7.88310759],\n",
      "       [6.22068664, 2.9483463 ]])>\n"
     ]
    },
    {
     "data": {
      "text/plain": "<Figure size 432x288 with 1 Axes>",
      "image/png": "[encoded data removed]"
     },
     "metadata": {
      "needs_background": "light"
     },
     "output_type": "display_data"
    }
   ],
   "source": [
    "for step in range(iteration_n):\n",
    "    [_, centroid_values, points_values, assignment_values] = [update_centroids, centroids, points, assignments]\n",
    "\n",
    "    print(\"centroids\", centroid_values)\n",
    "\n",
    "plt.scatter(points_values[:, 0], points_values[:, 1], c=assignment_values, s=50, alpha=0.5)\n",
    "plt.plot(centroid_values[:, 0], centroid_values[:, 1], 'kx', markersize=15)\n",
    "plt.show()"
   ],
   "metadata": {
    "collapsed": false,
    "pycharm": {
     "name": "#%%\n"
    }
   }
  }
 ],
 "metadata": {
  "kernelspec": {
   "display_name": "Python 3",
   "language": "python",
   "name": "python3"
  },
  "language_info": {
   "codemirror_mode": {
    "name": "ipython",
    "version": 2
   },
   "file_extension": ".py",
   "mimetype": "text/x-python",
   "name": "python",
   "nbconvert_exporter": "python",
   "pygments_lexer": "ipython2",
   "version": "2.7.6"
  }
 },
 "nbformat": 4,
 "nbformat_minor": 0
}