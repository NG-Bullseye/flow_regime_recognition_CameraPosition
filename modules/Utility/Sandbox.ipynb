{
 "cells": [
  {
   "cell_type": "code",
   "execution_count": null,
   "metadata": {
    "collapsed": true
   },
   "outputs": [],
   "source": [
    "import os\n",
    "import shutil\n",
    "\n",
    "import modules.Utility.database\n",
    "\n",
    "# directory containing all yaw directories\n",
    "yaw_dir = \"/home/lwecke/Datensätze/Datensatz_v1_50p_3reg/preprocessed_sorded_by_yaw\"\n",
    "\n",
    "# destination directory\n",
    "dst_dir = \"/home/lwecke/Datensätze/Datensatz_v1_50p_3reg/Bulktraining_Outputs/Bulktraining_2023_07_24/yaw\"\n",
    "\n",
    "# create destination directory if it doesn't exist\n",
    "os.makedirs(dst_dir, exist_ok=True)\n",
    "\n",
    "# iterate over all directories under yaw_dir\n",
    "for yaw_value_dir in os.listdir(yaw_dir):\n",
    "    src_dir = os.path.join(yaw_dir, yaw_value_dir)\n",
    "\n",
    "    # iterate over all directories under each yaw directory\n",
    "    for training_set_dir in os.listdir(src_dir):\n",
    "        training_dir = os.path.join(src_dir, training_set_dir)\n",
    "\n",
    "        # make sure it's a directory\n",
    "        if os.path.isdir(training_dir):\n",
    "            # generate new directory name\n",
    "            new_dir_name = \"{}_{}_training_output\".format(yaw_value_dir, training_set_dir)\n",
    "\n",
    "            # create full path for destination directory\n",
    "            dst_full_dir = os.path.join(dst_dir, new_dir_name)\n",
    "\n",
    "            # copy entire directory tree to new location\n",
    "            shutil.copytree(training_dir, dst_full_dir)\n"
   ]
  },
  {
   "cell_type": "code",
   "execution_count": 1,
   "outputs": [
    {
     "name": "stdout",
     "output_type": "stream",
     "text": [
      "Password: None\n"
     ]
    },
    {
     "ename": "TypeError",
     "evalue": "can only concatenate str (not \"NoneType\") to str",
     "output_type": "error",
     "traceback": [
      "\u001B[0;31m---------------------------------------------------------------------------\u001B[0m",
      "\u001B[0;31mTypeError\u001B[0m                                 Traceback (most recent call last)",
      "\u001B[0;32m/tmp/ipykernel_3206455/3196738039.py\u001B[0m in \u001B[0;36m<module>\u001B[0;34m\u001B[0m\n\u001B[1;32m      4\u001B[0m \u001B[0;32mfrom\u001B[0m \u001B[0mmodules\u001B[0m\u001B[0;34m.\u001B[0m\u001B[0mUtility\u001B[0m\u001B[0;34m.\u001B[0m\u001B[0mdatabase\u001B[0m \u001B[0;32mimport\u001B[0m \u001B[0mSim_data_db\u001B[0m \u001B[0;32mas\u001B[0m \u001B[0msim_db\u001B[0m\u001B[0;34m\u001B[0m\u001B[0;34m\u001B[0m\u001B[0m\n\u001B[1;32m      5\u001B[0m \u001B[0mprint\u001B[0m\u001B[0;34m(\u001B[0m\u001B[0;34m\"Password: \"\u001B[0m\u001B[0;34m+\u001B[0m\u001B[0mstr\u001B[0m\u001B[0;34m(\u001B[0m\u001B[0mos\u001B[0m\u001B[0;34m.\u001B[0m\u001B[0menviron\u001B[0m\u001B[0;34m.\u001B[0m\u001B[0mget\u001B[0m\u001B[0;34m(\u001B[0m\u001B[0;34m\"PASSWORD\"\u001B[0m\u001B[0;34m)\u001B[0m\u001B[0;34m)\u001B[0m\u001B[0;34m)\u001B[0m\u001B[0;34m\u001B[0m\u001B[0;34m\u001B[0m\u001B[0m\n\u001B[0;32m----> 6\u001B[0;31m \u001B[0mdb\u001B[0m \u001B[0;34m=\u001B[0m \u001B[0msim_db\u001B[0m\u001B[0;34m(\u001B[0m\u001B[0;34m'my_database.db'\u001B[0m\u001B[0;34m,\u001B[0m\u001B[0;34m)\u001B[0m\u001B[0;34m\u001B[0m\u001B[0;34m\u001B[0m\u001B[0m\n\u001B[0m\u001B[1;32m      7\u001B[0m \u001B[0;31m# Add data to the database\u001B[0m\u001B[0;34m\u001B[0m\u001B[0;34m\u001B[0m\u001B[0;34m\u001B[0m\u001B[0m\n\u001B[1;32m      8\u001B[0m \u001B[0mdb\u001B[0m\u001B[0;34m.\u001B[0m\u001B[0mput\u001B[0m\u001B[0;34m(\u001B[0m\u001B[0myaw\u001B[0m\u001B[0;34m=\u001B[0m\u001B[0;34m-\u001B[0m\u001B[0;36m45.1\u001B[0m\u001B[0;34m,\u001B[0m\u001B[0mimage_path\u001B[0m\u001B[0;34m=\u001B[0m\u001B[0;34m'\\home\\leo\\succmd5.png'\u001B[0m\u001B[0;34m)\u001B[0m\u001B[0;34m\u001B[0m\u001B[0;34m\u001B[0m\u001B[0m\n",
      "\u001B[0;32m~/PycharmProjects/flow_regime_recognition_CameraPosition/modules/Utility/database.py\u001B[0m in \u001B[0;36m__init__\u001B[0;34m(self, db_name)\u001B[0m\n\u001B[1;32m      5\u001B[0m \u001B[0;32mclass\u001B[0m \u001B[0mSim_data_db\u001B[0m\u001B[0;34m:\u001B[0m\u001B[0;34m\u001B[0m\u001B[0;34m\u001B[0m\u001B[0m\n\u001B[1;32m      6\u001B[0m     \u001B[0;32mdef\u001B[0m \u001B[0m__init__\u001B[0m\u001B[0;34m(\u001B[0m\u001B[0mself\u001B[0m\u001B[0;34m,\u001B[0m \u001B[0mdb_name\u001B[0m\u001B[0;34m)\u001B[0m\u001B[0;34m:\u001B[0m\u001B[0;34m\u001B[0m\u001B[0;34m\u001B[0m\u001B[0m\n\u001B[0;32m----> 7\u001B[0;31m         \u001B[0mprint\u001B[0m\u001B[0;34m(\u001B[0m\u001B[0;34m\"Password: \"\u001B[0m\u001B[0;34m+\u001B[0m\u001B[0mos\u001B[0m\u001B[0;34m.\u001B[0m\u001B[0menviron\u001B[0m\u001B[0;34m.\u001B[0m\u001B[0mget\u001B[0m\u001B[0;34m(\u001B[0m\u001B[0;34m\"PASSWORD\"\u001B[0m\u001B[0;34m)\u001B[0m\u001B[0;34m)\u001B[0m\u001B[0;34m\u001B[0m\u001B[0;34m\u001B[0m\u001B[0m\n\u001B[0m\u001B[1;32m      8\u001B[0m         \u001B[0mself\u001B[0m\u001B[0;34m.\u001B[0m\u001B[0mconn\u001B[0m \u001B[0;34m=\u001B[0m \u001B[0mpsycopg2\u001B[0m\u001B[0;34m.\u001B[0m\u001B[0mconnect\u001B[0m\u001B[0;34m(\u001B[0m\u001B[0mdbname\u001B[0m\u001B[0;34m=\u001B[0m\u001B[0mdb_name\u001B[0m\u001B[0;34m,\u001B[0m \u001B[0muser\u001B[0m\u001B[0;34m=\u001B[0m\u001B[0;34m\"postgres\"\u001B[0m\u001B[0;34m,\u001B[0m \u001B[0mpassword\u001B[0m\u001B[0;34m=\u001B[0m\u001B[0mos\u001B[0m\u001B[0;34m.\u001B[0m\u001B[0menviron\u001B[0m\u001B[0;34m.\u001B[0m\u001B[0mget\u001B[0m\u001B[0;34m(\u001B[0m\u001B[0;34m\"password\"\u001B[0m\u001B[0;34m)\u001B[0m\u001B[0;34m,\u001B[0m \u001B[0mhost\u001B[0m\u001B[0;34m=\u001B[0m\u001B[0;34m\"localhost\"\u001B[0m\u001B[0;34m)\u001B[0m\u001B[0;34m\u001B[0m\u001B[0;34m\u001B[0m\u001B[0m\n\u001B[1;32m      9\u001B[0m         \u001B[0mself\u001B[0m\u001B[0;34m.\u001B[0m\u001B[0mc\u001B[0m \u001B[0;34m=\u001B[0m \u001B[0mself\u001B[0m\u001B[0;34m.\u001B[0m\u001B[0mconn\u001B[0m\u001B[0;34m.\u001B[0m\u001B[0mcursor\u001B[0m\u001B[0;34m(\u001B[0m\u001B[0;34m)\u001B[0m\u001B[0;34m\u001B[0m\u001B[0;34m\u001B[0m\u001B[0m\n",
      "\u001B[0;31mTypeError\u001B[0m: can only concatenate str (not \"NoneType\") to str"
     ]
    }
   ],
   "source": [
    "# Initialize the database\n",
    "import os\n",
    "\n",
    "from modules.Utility.database import Sim_data_db as sim_db\n",
    "print(\"Password: \"+str(os.environ.get(\"PASSWORD\")))\n",
    "db = sim_db('my_database.db',)\n",
    "# Add data to the database\n",
    "db.put(yaw=-45.1,image_path='\\home\\leo\\succmd5.png')\n",
    "db.put(yaw=-45.1,gradcam_mean_path='\\home\\leo\\gradcams\\succmd_gradcam5.png')\n",
    "db.put(yaw=-45.1,rec_scalar=-1.54)\n",
    "db.put(yaw=-45.1,acc=0.55)\n",
    "\n",
    "db.put(yaw=4,image_path='\\home\\leo\\succmd4.png')\n",
    "db.put(yaw=4,gradcam_mean_path='\\home\\leo\\gradcams\\succmd_gradcam4.png')\n",
    "db.put(yaw=4,rec_scalar=-1.41)\n",
    "db.put(yaw=4,acc=0.430)\n",
    "\n",
    "db.put(yaw=3,image_path='\\home\\leo\\succmd3.png')\n",
    "db.put(yaw=3,gradcam_mean_path='\\home\\leo\\gradcams\\succmd_gradcam3.png')\n",
    "db.put(yaw=3,rec_scalar=1.31)\n",
    "db.put(yaw=3,acc=0.33)\n",
    "# Get data from the database\n",
    "print(db.get('gradcam_mean_path', 'yaw', 3))\n",
    "\n",
    "# Don't forget to close the connection when you're done\n",
    "db.close()"
   ],
   "metadata": {
    "collapsed": false,
    "ExecuteTime": {
     "end_time": "2023-08-01T14:27:09.374342532Z",
     "start_time": "2023-08-01T14:27:09.316492332Z"
    }
   }
  },
  {
   "cell_type": "code",
   "execution_count": null,
   "outputs": [],
   "source": [],
   "metadata": {
    "collapsed": false,
    "ExecuteTime": {
     "end_time": "2023-08-01T14:23:43.716740965Z",
     "start_time": "2023-08-01T14:23:43.716041358Z"
    }
   }
  },
  {
   "cell_type": "code",
   "execution_count": null,
   "outputs": [],
   "source": [],
   "metadata": {
    "collapsed": false
   }
  }
 ],
 "metadata": {
  "kernelspec": {
   "display_name": "Python 3",
   "language": "python",
   "name": "python3"
  },
  "language_info": {
   "codemirror_mode": {
    "name": "ipython",
    "version": 2
   },
   "file_extension": ".py",
   "mimetype": "text/x-python",
   "name": "python",
   "nbconvert_exporter": "python",
   "pygments_lexer": "ipython2",
   "version": "2.7.6"
  }
 },
 "nbformat": 4,
 "nbformat_minor": 0
}
