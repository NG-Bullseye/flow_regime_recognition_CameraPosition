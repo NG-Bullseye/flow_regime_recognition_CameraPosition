{
 "cells": [
  {
   "cell_type": "code",
   "execution_count": 1,
   "metadata": {
    "collapsed": true,
    "ExecuteTime": {
     "end_time": "2023-07-28T15:31:59.373904994Z",
     "start_time": "2023-07-28T15:31:59.127991120Z"
    }
   },
   "outputs": [],
   "source": [
    "import os\n",
    "import shutil\n",
    "\n",
    "# directory containing all yaw directories\n",
    "yaw_dir = \"/home/lwecke/Datensätze/Datensatz_v1_50p_3reg/preprocessed_sorded_by_yaw\"\n",
    "\n",
    "# destination directory\n",
    "dst_dir = \"/home/lwecke/Datensätze/Datensatz_v1_50p_3reg/Bulktraining_Outputs/Bulktraining_2023_07_24/yaw\"\n",
    "\n",
    "# create destination directory if it doesn't exist\n",
    "os.makedirs(dst_dir, exist_ok=True)\n",
    "\n",
    "# iterate over all directories under yaw_dir\n",
    "for yaw_value_dir in os.listdir(yaw_dir):\n",
    "    src_dir = os.path.join(yaw_dir, yaw_value_dir)\n",
    "\n",
    "    # iterate over all directories under each yaw directory\n",
    "    for training_set_dir in os.listdir(src_dir):\n",
    "        training_dir = os.path.join(src_dir, training_set_dir)\n",
    "\n",
    "        # make sure it's a directory\n",
    "        if os.path.isdir(training_dir):\n",
    "            # generate new directory name\n",
    "            new_dir_name = \"{}_{}_training_output\".format(yaw_value_dir, training_set_dir)\n",
    "\n",
    "            # create full path for destination directory\n",
    "            dst_full_dir = os.path.join(dst_dir, new_dir_name)\n",
    "\n",
    "            # copy entire directory tree to new location\n",
    "            shutil.copytree(training_dir, dst_full_dir)\n"
   ]
  },
  {
   "cell_type": "code",
   "execution_count": null,
   "outputs": [],
   "source": [],
   "metadata": {
    "collapsed": false
   }
  }
 ],
 "metadata": {
  "kernelspec": {
   "display_name": "Python 3",
   "language": "python",
   "name": "python3"
  },
  "language_info": {
   "codemirror_mode": {
    "name": "ipython",
    "version": 2
   },
   "file_extension": ".py",
   "mimetype": "text/x-python",
   "name": "python",
   "nbconvert_exporter": "python",
   "pygments_lexer": "ipython2",
   "version": "2.7.6"
  }
 },
 "nbformat": 4,
 "nbformat_minor": 0
}
