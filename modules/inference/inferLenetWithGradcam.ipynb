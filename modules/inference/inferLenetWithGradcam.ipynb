{
 "cells": [
  {
   "cell_type": "markdown",
   "source": [
    "Imports for Inferencing"
   ],
   "metadata": {
    "collapsed": false
   }
  },
  {
   "cell_type": "code",
   "execution_count": 14,
   "outputs": [],
   "source": [
    "import tensorflow as tf\n",
    "from keras_preprocessing.image.utils import img_to_array,load_img, array_to_img\n",
    "import numpy as np\n",
    "import cv2\n",
    "import os\n",
    "import sys\n",
    "p = os.path.abspath('.')\n",
    "sys.path.insert(1, p)\n",
    "os.environ[\"CUDA_VISIBLE_DEVICES\"] = \"-1\"\n",
    "\n",
    "\n",
    "import tensorflow as tf\n",
    "from keras.applications.xception import Xception as net\n",
    "from keras_preprocessing.image.utils import img_to_array,load_img, array_to_img\n",
    "from keras.applications.resnet_v2 import preprocess_input, decode_predictions\n",
    "import numpy as np\n",
    "import cv2\n",
    "from tensorflow.python.keras import backend as K\n",
    "import pandas as pd"
   ],
   "metadata": {
    "collapsed": false
   }
  },
  {
   "cell_type": "markdown",
   "source": [
    "Imports for dataset aquisition from preprocessed data"
   ],
   "metadata": {
    "collapsed": false
   }
  },
  {
   "cell_type": "code",
   "execution_count": 15,
   "outputs": [],
   "source": [
    "path = '/mnt/0A60B2CB60B2BD2F/Projects/leo_flow_regime_recognition/data_import_and_preprocessing/data/preprocessed/1664797317752_camera_frame.png'\n",
    "img = cv2.imread(path)\n",
    "img_preprocessed = cv2.cvtColor(img, cv2.COLOR_BGR2GRAY)\n",
    "img_preprocessed = cv2.resize(img_preprocessed, (32, 32), interpolation=cv2.INTER_CUBIC)\n",
    "img_preprocessed  = img_preprocessed / 255\n",
    "x = np.expand_dims(img_preprocessed, axis=0)"
   ],
   "metadata": {
    "collapsed": false
   }
  },
  {
   "cell_type": "markdown",
   "source": [
    "\"load Model\""
   ],
   "metadata": {
    "collapsed": false
   }
  },
  {
   "cell_type": "code",
   "execution_count": 16,
   "outputs": [],
   "source": [
    "model_path = \"/mnt/0A60B2CB60B2BD2F/Projects/leo_flow_regime_recognition/training/model/trained_model.h5\"\n",
    "reconstructed_model = tf.keras.models.load_model(model_path)\n",
    "reconstructed_model.compile(loss='categorical_crossentropy', metrics='accuracy')"
   ],
   "metadata": {
    "collapsed": false
   }
  },
  {
   "cell_type": "markdown",
   "source": [
    "\"infer\""
   ],
   "metadata": {
    "collapsed": false
   }
  },
  {
   "cell_type": "code",
   "execution_count": 17,
   "outputs": [
    {
     "name": "stdout",
     "output_type": "stream",
     "text": [
      "1/1 [==============================] - 0s 71ms/step\n"
     ]
    },
    {
     "data": {
      "text/plain": "array([[1.000000e+00, 2.655053e-20, 0.000000e+00, 0.000000e+00]],\n      dtype=float32)"
     },
     "execution_count": 17,
     "metadata": {},
     "output_type": "execute_result"
    }
   ],
   "source": [
    "preds = reconstructed_model.predict(x)\n",
    "preds"
   ],
   "metadata": {
    "collapsed": false
   }
  },
  {
   "cell_type": "code",
   "execution_count": 18,
   "outputs": [
    {
     "name": "stdout",
     "output_type": "stream",
     "text": [
      "Flooded: 1.0\n"
     ]
    }
   ],
   "source": [
    "pred=np.around(preds,3)\n",
    "inferedClass=\"\"\n",
    "\n",
    "prediction= pred[0]\n",
    "inferedAccuracyFlooded=prediction[0]\n",
    "inferedAccuracyLoaded=prediction[1]\n",
    "inferedAccuracyDispersed=prediction[2]\n",
    "\n",
    "classaccuracy = max(inferedAccuracyFlooded,inferedAccuracyDispersed,inferedAccuracyLoaded)\n",
    "if classaccuracy == inferedAccuracyFlooded:\n",
    "    inferedClass= \"Flooded\"\n",
    "elif classaccuracy == inferedAccuracyLoaded:\n",
    "    inferedClass= \"Loaded\"\n",
    "elif classaccuracy == inferedAccuracyDispersed:\n",
    "    inferedClass= \"Despersed\"\n",
    "print(inferedClass+\": \"+str(classaccuracy))"
   ],
   "metadata": {
    "collapsed": false
   }
  },
  {
   "cell_type": "code",
   "execution_count": 19,
   "outputs": [],
   "source": [
    "from report import grad_cam\n",
    "from report import gradcamplusplus\n",
    "#for layer in reconstructed_model.layers:\n",
    "#    print(layer.name)"
   ],
   "metadata": {
    "collapsed": false
   }
  },
  {
   "cell_type": "markdown",
   "source": [
    "## Delete Old saliencemaps for grad-cam and grad-cam-pluplus"
   ],
   "metadata": {
    "collapsed": false
   }
  },
  {
   "cell_type": "code",
   "execution_count": 20,
   "outputs": [],
   "source": [
    "import os, shutil\n",
    "folder = '/mnt/0A60B2CB60B2BD2F/Projects/leo_flow_regime_recognition/data/saliencemap'\n",
    "for filename in os.listdir(folder):\n",
    "    file_path = os.path.join(folder, filename)\n",
    "    try:\n",
    "        if os.path.isfile(file_path) or os.path.islink(file_path):\n",
    "            os.unlink(file_path)\n",
    "        elif os.path.isdir(file_path):\n",
    "            shutil.rmtree(file_path)\n",
    "    except Exception as e:\n",
    "        print('Failed to delete %s. Reason: %s' % (file_path, e))\n",
    "folder = '/mnt/0A60B2CB60B2BD2F/Projects/leo_flow_regime_recognition/data/gradcamplusplus'\n",
    "for filename in os.listdir(folder):\n",
    "    file_path = os.path.join(folder, filename)\n",
    "    try:\n",
    "        if os.path.isfile(file_path) or os.path.islink(file_path):\n",
    "            os.unlink(file_path)\n",
    "        elif os.path.isdir(file_path):\n",
    "            shutil.rmtree(file_path)\n",
    "    except Exception as e:\n",
    "        print('Failed to delete %s. Reason: %s' % (file_path, e))"
   ],
   "metadata": {
    "collapsed": false
   }
  },
  {
   "cell_type": "code",
   "execution_count": 21,
   "outputs": [
    {
     "name": "stdout",
     "output_type": "stream",
     "text": [
      "saved\n",
      "saved\n",
      "saved\n",
      "saved\n",
      "saved\n",
      "saved\n",
      "saved\n",
      "saved\n",
      "saved\n",
      "saved\n",
      "saved\n",
      "saved\n",
      "saved\n",
      "saved\n",
      "saved\n",
      "saved\n",
      "saved\n",
      "saved\n",
      "saved\n",
      "saved\n",
      "saved\n",
      "saved\n",
      "saved\n",
      "saved\n",
      "saved\n",
      "saved\n",
      "saved\n",
      "saved\n",
      "saved\n",
      "saved\n",
      "saved\n",
      "saved\n",
      "saved\n",
      "saved\n",
      "saved\n",
      "saved\n",
      "saved\n",
      "saved\n",
      "saved\n",
      "saved\n",
      "saved\n",
      "saved\n",
      "saved\n",
      "saved\n",
      "saved\n",
      "saved\n",
      "saved\n",
      "saved\n",
      "saved\n",
      "saved\n",
      "saved\n",
      "saved\n",
      "saved\n",
      "saved\n",
      "saved\n",
      "saved\n",
      "saved\n",
      "saved\n",
      "saved\n",
      "saved\n",
      "saved\n",
      "saved\n",
      "saved\n",
      "saved\n",
      "saved\n",
      "saved\n",
      "saved\n",
      "saved\n",
      "saved\n",
      "saved\n",
      "saved\n",
      "saved\n",
      "saved\n",
      "saved\n",
      "saved\n",
      "saved\n",
      "saved\n",
      "saved\n",
      "saved\n",
      "saved\n",
      "saved\n",
      "saved\n",
      "saved\n",
      "saved\n",
      "saved\n",
      "saved\n",
      "saved\n",
      "saved\n",
      "saved\n",
      "saved\n",
      "saved\n",
      "saved\n",
      "saved\n",
      "saved\n",
      "saved\n",
      "saved\n",
      "saved\n",
      "saved\n",
      "saved\n",
      "saved\n",
      "done\n"
     ]
    }
   ],
   "source": [
    "alpha=0.97\n",
    "alphaPlusPlus=0.99\n",
    "\n",
    "alphaIncrement=0.0001\n",
    "alphaPlusPlusIncrement=0.0001\n",
    "\n",
    "no_pictures=100\n",
    "heatmapType=\"cool\"\n",
    "heatmap = grad_cam.get_heatmap(img_preprocessed, reconstructed_model, \"conv2d_1\")\n",
    "heatmap_plus = gradcamplusplus.get_heatmap(img_preprocessed, reconstructed_model, \"conv2d_1\")\n",
    "for k in range(no_pictures):\n",
    "    combined_heatmap = grad_cam.combine_image_and_heatmap(img,heatmap,alpha,heatmapType)\n",
    "    picture =  array_to_img(combined_heatmap)\n",
    "    picture.save(\"/mnt/0A60B2CB60B2BD2F/Projects/leo_flow_regime_recognition/data/saliencemap/\"+heatmapType+\"_alpha\"+str(round(alpha*100))+\"_\"+inferedClass+str(round(classaccuracy*1000))+\".png\")\n",
    "\n",
    "    combined_heatmap_plus =gradcamplusplus.combine_image_and_heatmap(img,heatmap_plus,alphaPlusPlus,heatmapType)\n",
    "    picture= array_to_img(combined_heatmap_plus)\n",
    "\n",
    "    picture.save(\"/mnt/0A60B2CB60B2BD2F/Projects/leo_flow_regime_recognition/data/gradcamplusplus/\"+\"_alpha\"+str(alphaPlusPlus*1/alphaPlusPlusIncrement)+\"_\"+inferedClass+\".png\")\n",
    "    alpha=alpha+alphaIncrement\n",
    "    alphaPlusPlus=alphaPlusPlus+alphaPlusPlusIncrement\n",
    "\n",
    "    print(\"saved\")\n",
    "print(\"done\")"
   ],
   "metadata": {
    "collapsed": false
   }
  }
 ],
 "metadata": {
  "kernelspec": {
   "display_name": "Python 3",
   "language": "python",
   "name": "python3"
  },
  "language_info": {
   "codemirror_mode": {
    "name": "ipython",
    "version": 2
   },
   "file_extension": ".py",
   "mimetype": "text/x-python",
   "name": "python",
   "nbconvert_exporter": "python",
   "pygments_lexer": "ipython2",
   "version": "2.7.6"
  }
 },
 "nbformat": 4,
 "nbformat_minor": 0
}
